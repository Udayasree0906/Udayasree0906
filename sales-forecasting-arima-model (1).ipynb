{
 "cells": [
  {
   "cell_type": "markdown",
   "id": "457efc4b",
   "metadata": {
    "papermill": {
     "duration": 0.023229,
     "end_time": "2023-05-14T10:13:10.909625",
     "exception": false,
     "start_time": "2023-05-14T10:13:10.886396",
     "status": "completed"
    },
    "tags": []
   },
   "source": [
    "# Sales forecasting\n",
    "\n",
    "The project is mainly to predict the future sales by using the time-series forecasting technique. "
   ]
  },
  {
   "cell_type": "markdown",
   "id": "c4e0d8a8",
   "metadata": {
    "papermill": {
     "duration": 0.021837,
     "end_time": "2023-05-14T10:13:10.953298",
     "exception": false,
     "start_time": "2023-05-14T10:13:10.931461",
     "status": "completed"
    },
    "tags": []
   },
   "source": [
    "# Import Dependencies "
   ]
  },
  {
   "cell_type": "code",
   "execution_count": 1,
   "id": "c73da173",
   "metadata": {
    "execution": {
     "iopub.execute_input": "2023-05-14T10:13:11.001420Z",
     "iopub.status.busy": "2023-05-14T10:13:11.000960Z",
     "iopub.status.idle": "2023-05-14T10:13:14.359136Z",
     "shell.execute_reply": "2023-05-14T10:13:14.357782Z"
    },
    "papermill": {
     "duration": 3.386885,
     "end_time": "2023-05-14T10:13:14.362732",
     "exception": false,
     "start_time": "2023-05-14T10:13:10.975847",
     "status": "completed"
    },
    "tags": []
   },
   "outputs": [],
   "source": [
    "import pandas as pd\n",
    "import numpy as np\n",
    "import matplotlib.pyplot as plt\n",
    "import seaborn as sns \n",
    "import scipy.stats as stats\n",
    "from scipy.stats import pearsonr\n",
    "import itertools\n",
    "from statsmodels.tsa.stattools import kpss\n",
    "import statsmodels.api as sm\n",
    "from statsmodels.graphics.tsaplots import plot_pacf\n",
    "from statsmodels.graphics.tsaplots import plot_acf\n",
    "from statsmodels.tsa.stattools import adfuller"
   ]
  },
  {
   "cell_type": "markdown",
   "id": "f937dca9",
   "metadata": {
    "papermill": {
     "duration": 0.022893,
     "end_time": "2023-05-14T10:13:14.409880",
     "exception": false,
     "start_time": "2023-05-14T10:13:14.386987",
     "status": "completed"
    },
    "tags": []
   },
   "source": [
    "# Datasets "
   ]
  },
  {
   "cell_type": "code",
   "execution_count": 2,
   "id": "70ff981d",
   "metadata": {
    "execution": {
     "iopub.execute_input": "2023-05-14T10:13:14.457453Z",
     "iopub.status.busy": "2023-05-14T10:13:14.456689Z",
     "iopub.status.idle": "2023-05-14T10:13:18.521292Z",
     "shell.execute_reply": "2023-05-14T10:13:18.519610Z"
    },
    "papermill": {
     "duration": 4.092667,
     "end_time": "2023-05-14T10:13:18.524579",
     "exception": false,
     "start_time": "2023-05-14T10:13:14.431912",
     "status": "completed"
    },
    "tags": []
   },
   "outputs": [],
   "source": [
    "train_df = pd.read_csv(r'C:\\Users\\mayan\\Downloads\\storesales\\train.csv')\n",
    "test_df = pd.read_csv(r\"C:\\Users\\mayan\\Downloads\\storesales\\test.csv\")\n",
    "oil_df = pd.read_csv(r\"C:\\Users\\mayan\\Downloads\\storesales\\oil.csv\")\n",
    "transaction_df = pd.read_csv(r\"C:\\Users\\mayan\\Downloads\\storesales\\transactions.csv\")\n",
    "stores_df = pd.read_csv(r\"C:\\Users\\mayan\\Downloads\\storesales\\stores.csv\")\n",
    "holiday_event_df = pd.read_csv(r\"C:\\Users\\mayan\\Downloads\\storesales\\holidays_events.csv\")"
   ]
  },
  {
   "cell_type": "markdown",
   "id": "e2f4e353",
   "metadata": {
    "papermill": {
     "duration": 0.022135,
     "end_time": "2023-05-14T10:13:18.570299",
     "exception": false,
     "start_time": "2023-05-14T10:13:18.548164",
     "status": "completed"
    },
    "tags": []
   },
   "source": [
    "# Understanding the Data"
   ]
  },
  {
   "cell_type": "code",
   "execution_count": 3,
   "id": "0a38e1f8",
   "metadata": {
    "execution": {
     "iopub.execute_input": "2023-05-14T10:13:18.615583Z",
     "iopub.status.busy": "2023-05-14T10:13:18.615176Z",
     "iopub.status.idle": "2023-05-14T10:13:18.651595Z",
     "shell.execute_reply": "2023-05-14T10:13:18.650551Z"
    },
    "papermill": {
     "duration": 0.062341,
     "end_time": "2023-05-14T10:13:18.653976",
     "exception": false,
     "start_time": "2023-05-14T10:13:18.591635",
     "status": "completed"
    },
    "tags": []
   },
   "outputs": [
    {
     "data": {
      "text/html": [
       "<div>\n",
       "<style scoped>\n",
       "    .dataframe tbody tr th:only-of-type {\n",
       "        vertical-align: middle;\n",
       "    }\n",
       "\n",
       "    .dataframe tbody tr th {\n",
       "        vertical-align: top;\n",
       "    }\n",
       "\n",
       "    .dataframe thead th {\n",
       "        text-align: right;\n",
       "    }\n",
       "</style>\n",
       "<table border=\"1\" class=\"dataframe\">\n",
       "  <thead>\n",
       "    <tr style=\"text-align: right;\">\n",
       "      <th></th>\n",
       "      <th>id</th>\n",
       "      <th>date</th>\n",
       "      <th>store_nbr</th>\n",
       "      <th>family</th>\n",
       "      <th>sales</th>\n",
       "      <th>onpromotion</th>\n",
       "    </tr>\n",
       "  </thead>\n",
       "  <tbody>\n",
       "    <tr>\n",
       "      <th>0</th>\n",
       "      <td>0</td>\n",
       "      <td>2013-01-01</td>\n",
       "      <td>1</td>\n",
       "      <td>AUTOMOTIVE</td>\n",
       "      <td>0.0</td>\n",
       "      <td>0</td>\n",
       "    </tr>\n",
       "    <tr>\n",
       "      <th>1</th>\n",
       "      <td>1</td>\n",
       "      <td>2013-01-01</td>\n",
       "      <td>1</td>\n",
       "      <td>BABY CARE</td>\n",
       "      <td>0.0</td>\n",
       "      <td>0</td>\n",
       "    </tr>\n",
       "    <tr>\n",
       "      <th>2</th>\n",
       "      <td>2</td>\n",
       "      <td>2013-01-01</td>\n",
       "      <td>1</td>\n",
       "      <td>BEAUTY</td>\n",
       "      <td>0.0</td>\n",
       "      <td>0</td>\n",
       "    </tr>\n",
       "    <tr>\n",
       "      <th>3</th>\n",
       "      <td>3</td>\n",
       "      <td>2013-01-01</td>\n",
       "      <td>1</td>\n",
       "      <td>BEVERAGES</td>\n",
       "      <td>0.0</td>\n",
       "      <td>0</td>\n",
       "    </tr>\n",
       "    <tr>\n",
       "      <th>4</th>\n",
       "      <td>4</td>\n",
       "      <td>2013-01-01</td>\n",
       "      <td>1</td>\n",
       "      <td>BOOKS</td>\n",
       "      <td>0.0</td>\n",
       "      <td>0</td>\n",
       "    </tr>\n",
       "  </tbody>\n",
       "</table>\n",
       "</div>"
      ],
      "text/plain": [
       "   id        date  store_nbr      family  sales  onpromotion\n",
       "0   0  2013-01-01          1  AUTOMOTIVE    0.0            0\n",
       "1   1  2013-01-01          1   BABY CARE    0.0            0\n",
       "2   2  2013-01-01          1      BEAUTY    0.0            0\n",
       "3   3  2013-01-01          1   BEVERAGES    0.0            0\n",
       "4   4  2013-01-01          1       BOOKS    0.0            0"
      ]
     },
     "execution_count": 3,
     "metadata": {},
     "output_type": "execute_result"
    }
   ],
   "source": [
    "train_df.head()"
   ]
  },
  {
   "cell_type": "code",
   "execution_count": 4,
   "id": "f6c516c4",
   "metadata": {
    "execution": {
     "iopub.execute_input": "2023-05-14T10:13:18.701297Z",
     "iopub.status.busy": "2023-05-14T10:13:18.699908Z",
     "iopub.status.idle": "2023-05-14T10:13:18.713038Z",
     "shell.execute_reply": "2023-05-14T10:13:18.711889Z"
    },
    "papermill": {
     "duration": 0.039422,
     "end_time": "2023-05-14T10:13:18.715796",
     "exception": false,
     "start_time": "2023-05-14T10:13:18.676374",
     "status": "completed"
    },
    "tags": []
   },
   "outputs": [
    {
     "data": {
      "text/html": [
       "<div>\n",
       "<style scoped>\n",
       "    .dataframe tbody tr th:only-of-type {\n",
       "        vertical-align: middle;\n",
       "    }\n",
       "\n",
       "    .dataframe tbody tr th {\n",
       "        vertical-align: top;\n",
       "    }\n",
       "\n",
       "    .dataframe thead th {\n",
       "        text-align: right;\n",
       "    }\n",
       "</style>\n",
       "<table border=\"1\" class=\"dataframe\">\n",
       "  <thead>\n",
       "    <tr style=\"text-align: right;\">\n",
       "      <th></th>\n",
       "      <th>id</th>\n",
       "      <th>date</th>\n",
       "      <th>store_nbr</th>\n",
       "      <th>family</th>\n",
       "      <th>onpromotion</th>\n",
       "    </tr>\n",
       "  </thead>\n",
       "  <tbody>\n",
       "    <tr>\n",
       "      <th>0</th>\n",
       "      <td>3000888</td>\n",
       "      <td>2017-08-16</td>\n",
       "      <td>1</td>\n",
       "      <td>AUTOMOTIVE</td>\n",
       "      <td>0</td>\n",
       "    </tr>\n",
       "    <tr>\n",
       "      <th>1</th>\n",
       "      <td>3000889</td>\n",
       "      <td>2017-08-16</td>\n",
       "      <td>1</td>\n",
       "      <td>BABY CARE</td>\n",
       "      <td>0</td>\n",
       "    </tr>\n",
       "    <tr>\n",
       "      <th>2</th>\n",
       "      <td>3000890</td>\n",
       "      <td>2017-08-16</td>\n",
       "      <td>1</td>\n",
       "      <td>BEAUTY</td>\n",
       "      <td>2</td>\n",
       "    </tr>\n",
       "    <tr>\n",
       "      <th>3</th>\n",
       "      <td>3000891</td>\n",
       "      <td>2017-08-16</td>\n",
       "      <td>1</td>\n",
       "      <td>BEVERAGES</td>\n",
       "      <td>20</td>\n",
       "    </tr>\n",
       "    <tr>\n",
       "      <th>4</th>\n",
       "      <td>3000892</td>\n",
       "      <td>2017-08-16</td>\n",
       "      <td>1</td>\n",
       "      <td>BOOKS</td>\n",
       "      <td>0</td>\n",
       "    </tr>\n",
       "  </tbody>\n",
       "</table>\n",
       "</div>"
      ],
      "text/plain": [
       "        id        date  store_nbr      family  onpromotion\n",
       "0  3000888  2017-08-16          1  AUTOMOTIVE            0\n",
       "1  3000889  2017-08-16          1   BABY CARE            0\n",
       "2  3000890  2017-08-16          1      BEAUTY            2\n",
       "3  3000891  2017-08-16          1   BEVERAGES           20\n",
       "4  3000892  2017-08-16          1       BOOKS            0"
      ]
     },
     "execution_count": 4,
     "metadata": {},
     "output_type": "execute_result"
    }
   ],
   "source": [
    "test_df.head()"
   ]
  },
  {
   "cell_type": "code",
   "execution_count": 5,
   "id": "28bad77e",
   "metadata": {
    "execution": {
     "iopub.execute_input": "2023-05-14T10:13:18.765764Z",
     "iopub.status.busy": "2023-05-14T10:13:18.765318Z",
     "iopub.status.idle": "2023-05-14T10:13:18.777992Z",
     "shell.execute_reply": "2023-05-14T10:13:18.776821Z"
    },
    "papermill": {
     "duration": 0.039963,
     "end_time": "2023-05-14T10:13:18.780502",
     "exception": false,
     "start_time": "2023-05-14T10:13:18.740539",
     "status": "completed"
    },
    "tags": []
   },
   "outputs": [
    {
     "data": {
      "text/html": [
       "<div>\n",
       "<style scoped>\n",
       "    .dataframe tbody tr th:only-of-type {\n",
       "        vertical-align: middle;\n",
       "    }\n",
       "\n",
       "    .dataframe tbody tr th {\n",
       "        vertical-align: top;\n",
       "    }\n",
       "\n",
       "    .dataframe thead th {\n",
       "        text-align: right;\n",
       "    }\n",
       "</style>\n",
       "<table border=\"1\" class=\"dataframe\">\n",
       "  <thead>\n",
       "    <tr style=\"text-align: right;\">\n",
       "      <th></th>\n",
       "      <th>date</th>\n",
       "      <th>dcoilwtico</th>\n",
       "    </tr>\n",
       "  </thead>\n",
       "  <tbody>\n",
       "    <tr>\n",
       "      <th>0</th>\n",
       "      <td>2013-01-01</td>\n",
       "      <td>NaN</td>\n",
       "    </tr>\n",
       "    <tr>\n",
       "      <th>1</th>\n",
       "      <td>2013-01-02</td>\n",
       "      <td>93.14</td>\n",
       "    </tr>\n",
       "    <tr>\n",
       "      <th>2</th>\n",
       "      <td>2013-01-03</td>\n",
       "      <td>92.97</td>\n",
       "    </tr>\n",
       "    <tr>\n",
       "      <th>3</th>\n",
       "      <td>2013-01-04</td>\n",
       "      <td>93.12</td>\n",
       "    </tr>\n",
       "    <tr>\n",
       "      <th>4</th>\n",
       "      <td>2013-01-07</td>\n",
       "      <td>93.20</td>\n",
       "    </tr>\n",
       "  </tbody>\n",
       "</table>\n",
       "</div>"
      ],
      "text/plain": [
       "         date  dcoilwtico\n",
       "0  2013-01-01         NaN\n",
       "1  2013-01-02       93.14\n",
       "2  2013-01-03       92.97\n",
       "3  2013-01-04       93.12\n",
       "4  2013-01-07       93.20"
      ]
     },
     "execution_count": 5,
     "metadata": {},
     "output_type": "execute_result"
    }
   ],
   "source": [
    "oil_df.head()"
   ]
  },
  {
   "cell_type": "code",
   "execution_count": 6,
   "id": "4d4bbccb",
   "metadata": {
    "execution": {
     "iopub.execute_input": "2023-05-14T10:13:18.833592Z",
     "iopub.status.busy": "2023-05-14T10:13:18.832119Z",
     "iopub.status.idle": "2023-05-14T10:13:18.844775Z",
     "shell.execute_reply": "2023-05-14T10:13:18.843595Z"
    },
    "papermill": {
     "duration": 0.040931,
     "end_time": "2023-05-14T10:13:18.847307",
     "exception": false,
     "start_time": "2023-05-14T10:13:18.806376",
     "status": "completed"
    },
    "tags": []
   },
   "outputs": [
    {
     "data": {
      "text/html": [
       "<div>\n",
       "<style scoped>\n",
       "    .dataframe tbody tr th:only-of-type {\n",
       "        vertical-align: middle;\n",
       "    }\n",
       "\n",
       "    .dataframe tbody tr th {\n",
       "        vertical-align: top;\n",
       "    }\n",
       "\n",
       "    .dataframe thead th {\n",
       "        text-align: right;\n",
       "    }\n",
       "</style>\n",
       "<table border=\"1\" class=\"dataframe\">\n",
       "  <thead>\n",
       "    <tr style=\"text-align: right;\">\n",
       "      <th></th>\n",
       "      <th>date</th>\n",
       "      <th>store_nbr</th>\n",
       "      <th>transactions</th>\n",
       "    </tr>\n",
       "  </thead>\n",
       "  <tbody>\n",
       "    <tr>\n",
       "      <th>0</th>\n",
       "      <td>2013-01-01</td>\n",
       "      <td>25</td>\n",
       "      <td>770</td>\n",
       "    </tr>\n",
       "    <tr>\n",
       "      <th>1</th>\n",
       "      <td>2013-01-02</td>\n",
       "      <td>1</td>\n",
       "      <td>2111</td>\n",
       "    </tr>\n",
       "    <tr>\n",
       "      <th>2</th>\n",
       "      <td>2013-01-02</td>\n",
       "      <td>2</td>\n",
       "      <td>2358</td>\n",
       "    </tr>\n",
       "    <tr>\n",
       "      <th>3</th>\n",
       "      <td>2013-01-02</td>\n",
       "      <td>3</td>\n",
       "      <td>3487</td>\n",
       "    </tr>\n",
       "    <tr>\n",
       "      <th>4</th>\n",
       "      <td>2013-01-02</td>\n",
       "      <td>4</td>\n",
       "      <td>1922</td>\n",
       "    </tr>\n",
       "  </tbody>\n",
       "</table>\n",
       "</div>"
      ],
      "text/plain": [
       "         date  store_nbr  transactions\n",
       "0  2013-01-01         25           770\n",
       "1  2013-01-02          1          2111\n",
       "2  2013-01-02          2          2358\n",
       "3  2013-01-02          3          3487\n",
       "4  2013-01-02          4          1922"
      ]
     },
     "execution_count": 6,
     "metadata": {},
     "output_type": "execute_result"
    }
   ],
   "source": [
    "transaction_df.head()"
   ]
  },
  {
   "cell_type": "code",
   "execution_count": 7,
   "id": "375a70af",
   "metadata": {
    "execution": {
     "iopub.execute_input": "2023-05-14T10:13:18.896833Z",
     "iopub.status.busy": "2023-05-14T10:13:18.895638Z",
     "iopub.status.idle": "2023-05-14T10:13:18.909766Z",
     "shell.execute_reply": "2023-05-14T10:13:18.908530Z"
    },
    "papermill": {
     "duration": 0.041427,
     "end_time": "2023-05-14T10:13:18.912356",
     "exception": false,
     "start_time": "2023-05-14T10:13:18.870929",
     "status": "completed"
    },
    "tags": []
   },
   "outputs": [
    {
     "data": {
      "text/html": [
       "<div>\n",
       "<style scoped>\n",
       "    .dataframe tbody tr th:only-of-type {\n",
       "        vertical-align: middle;\n",
       "    }\n",
       "\n",
       "    .dataframe tbody tr th {\n",
       "        vertical-align: top;\n",
       "    }\n",
       "\n",
       "    .dataframe thead th {\n",
       "        text-align: right;\n",
       "    }\n",
       "</style>\n",
       "<table border=\"1\" class=\"dataframe\">\n",
       "  <thead>\n",
       "    <tr style=\"text-align: right;\">\n",
       "      <th></th>\n",
       "      <th>store_nbr</th>\n",
       "      <th>city</th>\n",
       "      <th>state</th>\n",
       "      <th>type</th>\n",
       "      <th>cluster</th>\n",
       "    </tr>\n",
       "  </thead>\n",
       "  <tbody>\n",
       "    <tr>\n",
       "      <th>0</th>\n",
       "      <td>1</td>\n",
       "      <td>Quito</td>\n",
       "      <td>Pichincha</td>\n",
       "      <td>D</td>\n",
       "      <td>13</td>\n",
       "    </tr>\n",
       "    <tr>\n",
       "      <th>1</th>\n",
       "      <td>2</td>\n",
       "      <td>Quito</td>\n",
       "      <td>Pichincha</td>\n",
       "      <td>D</td>\n",
       "      <td>13</td>\n",
       "    </tr>\n",
       "    <tr>\n",
       "      <th>2</th>\n",
       "      <td>3</td>\n",
       "      <td>Quito</td>\n",
       "      <td>Pichincha</td>\n",
       "      <td>D</td>\n",
       "      <td>8</td>\n",
       "    </tr>\n",
       "    <tr>\n",
       "      <th>3</th>\n",
       "      <td>4</td>\n",
       "      <td>Quito</td>\n",
       "      <td>Pichincha</td>\n",
       "      <td>D</td>\n",
       "      <td>9</td>\n",
       "    </tr>\n",
       "    <tr>\n",
       "      <th>4</th>\n",
       "      <td>5</td>\n",
       "      <td>Santo Domingo</td>\n",
       "      <td>Santo Domingo de los Tsachilas</td>\n",
       "      <td>D</td>\n",
       "      <td>4</td>\n",
       "    </tr>\n",
       "  </tbody>\n",
       "</table>\n",
       "</div>"
      ],
      "text/plain": [
       "   store_nbr           city                           state type  cluster\n",
       "0          1          Quito                       Pichincha    D       13\n",
       "1          2          Quito                       Pichincha    D       13\n",
       "2          3          Quito                       Pichincha    D        8\n",
       "3          4          Quito                       Pichincha    D        9\n",
       "4          5  Santo Domingo  Santo Domingo de los Tsachilas    D        4"
      ]
     },
     "execution_count": 7,
     "metadata": {},
     "output_type": "execute_result"
    }
   ],
   "source": [
    "stores_df.head()"
   ]
  },
  {
   "cell_type": "code",
   "execution_count": 8,
   "id": "f33df56a",
   "metadata": {
    "execution": {
     "iopub.execute_input": "2023-05-14T10:13:18.962535Z",
     "iopub.status.busy": "2023-05-14T10:13:18.961365Z",
     "iopub.status.idle": "2023-05-14T10:13:18.977569Z",
     "shell.execute_reply": "2023-05-14T10:13:18.976415Z"
    },
    "papermill": {
     "duration": 0.044182,
     "end_time": "2023-05-14T10:13:18.980359",
     "exception": false,
     "start_time": "2023-05-14T10:13:18.936177",
     "status": "completed"
    },
    "tags": []
   },
   "outputs": [
    {
     "data": {
      "text/html": [
       "<div>\n",
       "<style scoped>\n",
       "    .dataframe tbody tr th:only-of-type {\n",
       "        vertical-align: middle;\n",
       "    }\n",
       "\n",
       "    .dataframe tbody tr th {\n",
       "        vertical-align: top;\n",
       "    }\n",
       "\n",
       "    .dataframe thead th {\n",
       "        text-align: right;\n",
       "    }\n",
       "</style>\n",
       "<table border=\"1\" class=\"dataframe\">\n",
       "  <thead>\n",
       "    <tr style=\"text-align: right;\">\n",
       "      <th></th>\n",
       "      <th>date</th>\n",
       "      <th>type</th>\n",
       "      <th>locale</th>\n",
       "      <th>locale_name</th>\n",
       "      <th>description</th>\n",
       "      <th>transferred</th>\n",
       "    </tr>\n",
       "  </thead>\n",
       "  <tbody>\n",
       "    <tr>\n",
       "      <th>0</th>\n",
       "      <td>2012-03-02</td>\n",
       "      <td>Holiday</td>\n",
       "      <td>Local</td>\n",
       "      <td>Manta</td>\n",
       "      <td>Fundacion de Manta</td>\n",
       "      <td>False</td>\n",
       "    </tr>\n",
       "    <tr>\n",
       "      <th>1</th>\n",
       "      <td>2012-04-01</td>\n",
       "      <td>Holiday</td>\n",
       "      <td>Regional</td>\n",
       "      <td>Cotopaxi</td>\n",
       "      <td>Provincializacion de Cotopaxi</td>\n",
       "      <td>False</td>\n",
       "    </tr>\n",
       "    <tr>\n",
       "      <th>2</th>\n",
       "      <td>2012-04-12</td>\n",
       "      <td>Holiday</td>\n",
       "      <td>Local</td>\n",
       "      <td>Cuenca</td>\n",
       "      <td>Fundacion de Cuenca</td>\n",
       "      <td>False</td>\n",
       "    </tr>\n",
       "    <tr>\n",
       "      <th>3</th>\n",
       "      <td>2012-04-14</td>\n",
       "      <td>Holiday</td>\n",
       "      <td>Local</td>\n",
       "      <td>Libertad</td>\n",
       "      <td>Cantonizacion de Libertad</td>\n",
       "      <td>False</td>\n",
       "    </tr>\n",
       "    <tr>\n",
       "      <th>4</th>\n",
       "      <td>2012-04-21</td>\n",
       "      <td>Holiday</td>\n",
       "      <td>Local</td>\n",
       "      <td>Riobamba</td>\n",
       "      <td>Cantonizacion de Riobamba</td>\n",
       "      <td>False</td>\n",
       "    </tr>\n",
       "  </tbody>\n",
       "</table>\n",
       "</div>"
      ],
      "text/plain": [
       "         date     type    locale locale_name                    description  \\\n",
       "0  2012-03-02  Holiday     Local       Manta             Fundacion de Manta   \n",
       "1  2012-04-01  Holiday  Regional    Cotopaxi  Provincializacion de Cotopaxi   \n",
       "2  2012-04-12  Holiday     Local      Cuenca            Fundacion de Cuenca   \n",
       "3  2012-04-14  Holiday     Local    Libertad      Cantonizacion de Libertad   \n",
       "4  2012-04-21  Holiday     Local    Riobamba      Cantonizacion de Riobamba   \n",
       "\n",
       "   transferred  \n",
       "0        False  \n",
       "1        False  \n",
       "2        False  \n",
       "3        False  \n",
       "4        False  "
      ]
     },
     "execution_count": 8,
     "metadata": {},
     "output_type": "execute_result"
    }
   ],
   "source": [
    "holiday_event_df.head()"
   ]
  },
  {
   "cell_type": "code",
   "execution_count": 9,
   "id": "0a7039b2",
   "metadata": {
    "execution": {
     "iopub.execute_input": "2023-05-14T10:13:19.034679Z",
     "iopub.status.busy": "2023-05-14T10:13:19.034278Z",
     "iopub.status.idle": "2023-05-14T10:13:19.038719Z",
     "shell.execute_reply": "2023-05-14T10:13:19.037727Z"
    },
    "papermill": {
     "duration": 0.03388,
     "end_time": "2023-05-14T10:13:19.041024",
     "exception": false,
     "start_time": "2023-05-14T10:13:19.007144",
     "status": "completed"
    },
    "tags": []
   },
   "outputs": [],
   "source": [
    "#The sales column is the target variable. \n"
   ]
  },
  {
   "cell_type": "markdown",
   "id": "f4110a42",
   "metadata": {
    "papermill": {
     "duration": 0.024621,
     "end_time": "2023-05-14T10:13:19.091291",
     "exception": false,
     "start_time": "2023-05-14T10:13:19.066670",
     "status": "completed"
    },
    "tags": []
   },
   "source": [
    "##  Merging datasets holiday_event_df, stores_df, oil_df & train_df"
   ]
  },
  {
   "cell_type": "code",
   "execution_count": 10,
   "id": "496d7303",
   "metadata": {
    "execution": {
     "iopub.execute_input": "2023-05-14T10:13:19.142084Z",
     "iopub.status.busy": "2023-05-14T10:13:19.140849Z",
     "iopub.status.idle": "2023-05-14T10:13:23.078736Z",
     "shell.execute_reply": "2023-05-14T10:13:23.077281Z"
    },
    "papermill": {
     "duration": 3.966146,
     "end_time": "2023-05-14T10:13:23.081587",
     "exception": false,
     "start_time": "2023-05-14T10:13:19.115441",
     "status": "completed"
    },
    "tags": []
   },
   "outputs": [],
   "source": [
    "train_df = train_df.merge(stores_df, on ='store_nbr')\n",
    "train_df = train_df.merge(oil_df, on ='date', how='left')\n",
    "holiday_event_df = holiday_event_df.rename(columns={'type': 'holiday_type'})\n",
    "train_df = train_df.merge(holiday_event_df, on='date', how='left')"
   ]
  },
  {
   "cell_type": "code",
   "execution_count": 11,
   "id": "36183781",
   "metadata": {
    "execution": {
     "iopub.execute_input": "2023-05-14T10:13:23.130991Z",
     "iopub.status.busy": "2023-05-14T10:13:23.130535Z",
     "iopub.status.idle": "2023-05-14T10:13:23.152889Z",
     "shell.execute_reply": "2023-05-14T10:13:23.152031Z"
    },
    "papermill": {
     "duration": 0.050387,
     "end_time": "2023-05-14T10:13:23.155260",
     "exception": false,
     "start_time": "2023-05-14T10:13:23.104873",
     "status": "completed"
    },
    "tags": []
   },
   "outputs": [
    {
     "data": {
      "text/html": [
       "<div>\n",
       "<style scoped>\n",
       "    .dataframe tbody tr th:only-of-type {\n",
       "        vertical-align: middle;\n",
       "    }\n",
       "\n",
       "    .dataframe tbody tr th {\n",
       "        vertical-align: top;\n",
       "    }\n",
       "\n",
       "    .dataframe thead th {\n",
       "        text-align: right;\n",
       "    }\n",
       "</style>\n",
       "<table border=\"1\" class=\"dataframe\">\n",
       "  <thead>\n",
       "    <tr style=\"text-align: right;\">\n",
       "      <th></th>\n",
       "      <th>id</th>\n",
       "      <th>date</th>\n",
       "      <th>store_nbr</th>\n",
       "      <th>family</th>\n",
       "      <th>sales</th>\n",
       "      <th>onpromotion</th>\n",
       "      <th>city</th>\n",
       "      <th>state</th>\n",
       "      <th>type</th>\n",
       "      <th>cluster</th>\n",
       "      <th>dcoilwtico</th>\n",
       "      <th>holiday_type</th>\n",
       "      <th>locale</th>\n",
       "      <th>locale_name</th>\n",
       "      <th>description</th>\n",
       "      <th>transferred</th>\n",
       "    </tr>\n",
       "  </thead>\n",
       "  <tbody>\n",
       "    <tr>\n",
       "      <th>0</th>\n",
       "      <td>0</td>\n",
       "      <td>2013-01-01</td>\n",
       "      <td>1</td>\n",
       "      <td>AUTOMOTIVE</td>\n",
       "      <td>0.0</td>\n",
       "      <td>0</td>\n",
       "      <td>Quito</td>\n",
       "      <td>Pichincha</td>\n",
       "      <td>D</td>\n",
       "      <td>13</td>\n",
       "      <td>NaN</td>\n",
       "      <td>Holiday</td>\n",
       "      <td>National</td>\n",
       "      <td>Ecuador</td>\n",
       "      <td>Primer dia del ano</td>\n",
       "      <td>False</td>\n",
       "    </tr>\n",
       "    <tr>\n",
       "      <th>1</th>\n",
       "      <td>1</td>\n",
       "      <td>2013-01-01</td>\n",
       "      <td>1</td>\n",
       "      <td>BABY CARE</td>\n",
       "      <td>0.0</td>\n",
       "      <td>0</td>\n",
       "      <td>Quito</td>\n",
       "      <td>Pichincha</td>\n",
       "      <td>D</td>\n",
       "      <td>13</td>\n",
       "      <td>NaN</td>\n",
       "      <td>Holiday</td>\n",
       "      <td>National</td>\n",
       "      <td>Ecuador</td>\n",
       "      <td>Primer dia del ano</td>\n",
       "      <td>False</td>\n",
       "    </tr>\n",
       "    <tr>\n",
       "      <th>2</th>\n",
       "      <td>2</td>\n",
       "      <td>2013-01-01</td>\n",
       "      <td>1</td>\n",
       "      <td>BEAUTY</td>\n",
       "      <td>0.0</td>\n",
       "      <td>0</td>\n",
       "      <td>Quito</td>\n",
       "      <td>Pichincha</td>\n",
       "      <td>D</td>\n",
       "      <td>13</td>\n",
       "      <td>NaN</td>\n",
       "      <td>Holiday</td>\n",
       "      <td>National</td>\n",
       "      <td>Ecuador</td>\n",
       "      <td>Primer dia del ano</td>\n",
       "      <td>False</td>\n",
       "    </tr>\n",
       "  </tbody>\n",
       "</table>\n",
       "</div>"
      ],
      "text/plain": [
       "   id        date  store_nbr      family  sales  onpromotion   city  \\\n",
       "0   0  2013-01-01          1  AUTOMOTIVE    0.0            0  Quito   \n",
       "1   1  2013-01-01          1   BABY CARE    0.0            0  Quito   \n",
       "2   2  2013-01-01          1      BEAUTY    0.0            0  Quito   \n",
       "\n",
       "       state type  cluster  dcoilwtico holiday_type    locale locale_name  \\\n",
       "0  Pichincha    D       13         NaN      Holiday  National     Ecuador   \n",
       "1  Pichincha    D       13         NaN      Holiday  National     Ecuador   \n",
       "2  Pichincha    D       13         NaN      Holiday  National     Ecuador   \n",
       "\n",
       "          description transferred  \n",
       "0  Primer dia del ano       False  \n",
       "1  Primer dia del ano       False  \n",
       "2  Primer dia del ano       False  "
      ]
     },
     "execution_count": 11,
     "metadata": {},
     "output_type": "execute_result"
    }
   ],
   "source": [
    "train_df.head(3)"
   ]
  },
  {
   "cell_type": "code",
   "execution_count": 12,
   "id": "73edf1d2",
   "metadata": {
    "execution": {
     "iopub.execute_input": "2023-05-14T10:13:23.206690Z",
     "iopub.status.busy": "2023-05-14T10:13:23.206025Z",
     "iopub.status.idle": "2023-05-14T10:13:23.222604Z",
     "shell.execute_reply": "2023-05-14T10:13:23.221408Z"
    },
    "papermill": {
     "duration": 0.046489,
     "end_time": "2023-05-14T10:13:23.225510",
     "exception": false,
     "start_time": "2023-05-14T10:13:23.179021",
     "status": "completed"
    },
    "tags": []
   },
   "outputs": [
    {
     "name": "stdout",
     "output_type": "stream",
     "text": [
      "<class 'pandas.core.frame.DataFrame'>\n",
      "Int64Index: 3054348 entries, 0 to 3054347\n",
      "Data columns (total 16 columns):\n",
      " #   Column        Dtype  \n",
      "---  ------        -----  \n",
      " 0   id            int64  \n",
      " 1   date          object \n",
      " 2   store_nbr     int64  \n",
      " 3   family        object \n",
      " 4   sales         float64\n",
      " 5   onpromotion   int64  \n",
      " 6   city          object \n",
      " 7   state         object \n",
      " 8   type          object \n",
      " 9   cluster       int64  \n",
      " 10  dcoilwtico    float64\n",
      " 11  holiday_type  object \n",
      " 12  locale        object \n",
      " 13  locale_name   object \n",
      " 14  description   object \n",
      " 15  transferred   object \n",
      "dtypes: float64(2), int64(4), object(10)\n",
      "memory usage: 396.1+ MB\n"
     ]
    }
   ],
   "source": [
    "train_df.info()"
   ]
  },
  {
   "cell_type": "markdown",
   "id": "dd782000",
   "metadata": {
    "papermill": {
     "duration": 0.023499,
     "end_time": "2023-05-14T10:13:23.272795",
     "exception": false,
     "start_time": "2023-05-14T10:13:23.249296",
     "status": "completed"
    },
    "tags": []
   },
   "source": [
    "# Missing Values Detection"
   ]
  },
  {
   "cell_type": "code",
   "execution_count": 13,
   "id": "5072019b",
   "metadata": {
    "execution": {
     "iopub.execute_input": "2023-05-14T10:13:23.322342Z",
     "iopub.status.busy": "2023-05-14T10:13:23.321629Z",
     "iopub.status.idle": "2023-05-14T10:13:32.060853Z",
     "shell.execute_reply": "2023-05-14T10:13:32.059517Z"
    },
    "papermill": {
     "duration": 8.76778,
     "end_time": "2023-05-14T10:13:32.064217",
     "exception": false,
     "start_time": "2023-05-14T10:13:23.296437",
     "status": "completed"
    },
    "tags": []
   },
   "outputs": [
    {
     "data": {
      "text/plain": [
       "id                    0\n",
       "date                  0\n",
       "store_nbr             0\n",
       "family                0\n",
       "sales                 0\n",
       "onpromotion           0\n",
       "city                  0\n",
       "state                 0\n",
       "type                  0\n",
       "cluster               0\n",
       "dcoilwtico       955152\n",
       "holiday_type    2551824\n",
       "locale          2551824\n",
       "locale_name     2551824\n",
       "description     2551824\n",
       "transferred     2551824\n",
       "dtype: int64"
      ]
     },
     "execution_count": 13,
     "metadata": {},
     "output_type": "execute_result"
    }
   ],
   "source": [
    "train_df.isnull().sum()"
   ]
  },
  {
   "cell_type": "code",
   "execution_count": 14,
   "id": "ed115813",
   "metadata": {
    "execution": {
     "iopub.execute_input": "2023-05-14T10:13:32.114744Z",
     "iopub.status.busy": "2023-05-14T10:13:32.114080Z",
     "iopub.status.idle": "2023-05-14T10:13:40.876892Z",
     "shell.execute_reply": "2023-05-14T10:13:40.875121Z"
    },
    "papermill": {
     "duration": 8.791523,
     "end_time": "2023-05-14T10:13:40.879669",
     "exception": false,
     "start_time": "2023-05-14T10:13:32.088146",
     "status": "completed"
    },
    "tags": []
   },
   "outputs": [
    {
     "name": "stdout",
     "output_type": "stream",
     "text": [
      "id               0.000000\n",
      "date             0.000000\n",
      "store_nbr        0.000000\n",
      "family           0.000000\n",
      "sales            0.000000\n",
      "onpromotion      0.000000\n",
      "city             0.000000\n",
      "state            0.000000\n",
      "type             0.000000\n",
      "cluster          0.000000\n",
      "dcoilwtico      31.271879\n",
      "holiday_type    83.547258\n",
      "locale          83.547258\n",
      "locale_name     83.547258\n",
      "description     83.547258\n",
      "transferred     83.547258\n",
      "dtype: float64\n"
     ]
    }
   ],
   "source": [
    "#percentage of missing values in train_df \n",
    "\n",
    "missing_percentages = train_df.isnull().sum()/ len(train_df) * 100 \n",
    "\n",
    "print(missing_percentages)"
   ]
  },
  {
   "cell_type": "code",
   "execution_count": 15,
   "id": "62f4dd87",
   "metadata": {
    "execution": {
     "iopub.execute_input": "2023-05-14T10:13:40.933157Z",
     "iopub.status.busy": "2023-05-14T10:13:40.932470Z",
     "iopub.status.idle": "2023-05-14T10:13:41.140952Z",
     "shell.execute_reply": "2023-05-14T10:13:41.139634Z"
    },
    "papermill": {
     "duration": 0.238424,
     "end_time": "2023-05-14T10:13:41.143983",
     "exception": false,
     "start_time": "2023-05-14T10:13:40.905559",
     "status": "completed"
    },
    "tags": []
   },
   "outputs": [],
   "source": [
    "# remove columns that are having more than 30% missing values\n",
    "\n",
    "columns_to_delete = missing_percentages[missing_percentages > 30].index\n",
    "\n",
    "train_df = train_df.drop(columns=columns_to_delete)"
   ]
  },
  {
   "cell_type": "code",
   "execution_count": 16,
   "id": "ec7c240f",
   "metadata": {
    "execution": {
     "iopub.execute_input": "2023-05-14T10:13:41.197791Z",
     "iopub.status.busy": "2023-05-14T10:13:41.197105Z",
     "iopub.status.idle": "2023-05-14T10:13:41.210078Z",
     "shell.execute_reply": "2023-05-14T10:13:41.208810Z"
    },
    "papermill": {
     "duration": 0.044638,
     "end_time": "2023-05-14T10:13:41.213882",
     "exception": false,
     "start_time": "2023-05-14T10:13:41.169244",
     "status": "completed"
    },
    "tags": []
   },
   "outputs": [
    {
     "name": "stdout",
     "output_type": "stream",
     "text": [
      "<class 'pandas.core.frame.DataFrame'>\n",
      "Int64Index: 3054348 entries, 0 to 3054347\n",
      "Data columns (total 10 columns):\n",
      " #   Column       Dtype  \n",
      "---  ------       -----  \n",
      " 0   id           int64  \n",
      " 1   date         object \n",
      " 2   store_nbr    int64  \n",
      " 3   family       object \n",
      " 4   sales        float64\n",
      " 5   onpromotion  int64  \n",
      " 6   city         object \n",
      " 7   state        object \n",
      " 8   type         object \n",
      " 9   cluster      int64  \n",
      "dtypes: float64(1), int64(4), object(5)\n",
      "memory usage: 256.3+ MB\n"
     ]
    }
   ],
   "source": [
    "train_df.info()"
   ]
  },
  {
   "cell_type": "markdown",
   "id": "1997fe98",
   "metadata": {
    "papermill": {
     "duration": 0.026803,
     "end_time": "2023-05-14T10:13:41.268491",
     "exception": false,
     "start_time": "2023-05-14T10:13:41.241688",
     "status": "completed"
    },
    "tags": []
   },
   "source": [
    "# Duplicates\n"
   ]
  },
  {
   "cell_type": "code",
   "execution_count": 17,
   "id": "57b3c9bb",
   "metadata": {
    "execution": {
     "iopub.execute_input": "2023-05-14T10:13:41.325572Z",
     "iopub.status.busy": "2023-05-14T10:13:41.325145Z",
     "iopub.status.idle": "2023-05-14T10:13:44.427610Z",
     "shell.execute_reply": "2023-05-14T10:13:44.426292Z"
    },
    "papermill": {
     "duration": 3.133279,
     "end_time": "2023-05-14T10:13:44.430422",
     "exception": false,
     "start_time": "2023-05-14T10:13:41.297143",
     "status": "completed"
    },
    "tags": []
   },
   "outputs": [
    {
     "data": {
      "text/plain": [
       "True"
      ]
     },
     "execution_count": 17,
     "metadata": {},
     "output_type": "execute_result"
    }
   ],
   "source": [
    "train_df.duplicated().any()"
   ]
  },
  {
   "cell_type": "code",
   "execution_count": 18,
   "id": "63dad5b8",
   "metadata": {
    "execution": {
     "iopub.execute_input": "2023-05-14T10:13:44.482813Z",
     "iopub.status.busy": "2023-05-14T10:13:44.482396Z",
     "iopub.status.idle": "2023-05-14T10:13:47.924000Z",
     "shell.execute_reply": "2023-05-14T10:13:47.922792Z"
    },
    "papermill": {
     "duration": 3.470559,
     "end_time": "2023-05-14T10:13:47.926723",
     "exception": false,
     "start_time": "2023-05-14T10:13:44.456164",
     "status": "completed"
    },
    "tags": []
   },
   "outputs": [
    {
     "data": {
      "text/plain": [
       "53460"
      ]
     },
     "execution_count": 18,
     "metadata": {},
     "output_type": "execute_result"
    }
   ],
   "source": [
    "dupes=train_df.duplicated()\n",
    "\n",
    "#dupes\n",
    "sum(dupes)"
   ]
  },
  {
   "cell_type": "code",
   "execution_count": 19,
   "id": "cbbff859",
   "metadata": {
    "execution": {
     "iopub.execute_input": "2023-05-14T10:13:47.981753Z",
     "iopub.status.busy": "2023-05-14T10:13:47.981317Z",
     "iopub.status.idle": "2023-05-14T10:13:51.905618Z",
     "shell.execute_reply": "2023-05-14T10:13:51.904120Z"
    },
    "papermill": {
     "duration": 3.956081,
     "end_time": "2023-05-14T10:13:51.909341",
     "exception": false,
     "start_time": "2023-05-14T10:13:47.953260",
     "status": "completed"
    },
    "tags": []
   },
   "outputs": [
    {
     "data": {
      "text/html": [
       "<div>\n",
       "<style scoped>\n",
       "    .dataframe tbody tr th:only-of-type {\n",
       "        vertical-align: middle;\n",
       "    }\n",
       "\n",
       "    .dataframe tbody tr th {\n",
       "        vertical-align: top;\n",
       "    }\n",
       "\n",
       "    .dataframe thead th {\n",
       "        text-align: right;\n",
       "    }\n",
       "</style>\n",
       "<table border=\"1\" class=\"dataframe\">\n",
       "  <thead>\n",
       "    <tr style=\"text-align: right;\">\n",
       "      <th></th>\n",
       "      <th>id</th>\n",
       "      <th>date</th>\n",
       "      <th>store_nbr</th>\n",
       "      <th>family</th>\n",
       "      <th>sales</th>\n",
       "      <th>onpromotion</th>\n",
       "      <th>city</th>\n",
       "      <th>state</th>\n",
       "      <th>type</th>\n",
       "      <th>cluster</th>\n",
       "    </tr>\n",
       "  </thead>\n",
       "  <tbody>\n",
       "    <tr>\n",
       "      <th>0</th>\n",
       "      <td>0</td>\n",
       "      <td>2013-01-01</td>\n",
       "      <td>1</td>\n",
       "      <td>AUTOMOTIVE</td>\n",
       "      <td>0.000</td>\n",
       "      <td>0</td>\n",
       "      <td>Quito</td>\n",
       "      <td>Pichincha</td>\n",
       "      <td>D</td>\n",
       "      <td>13</td>\n",
       "    </tr>\n",
       "    <tr>\n",
       "      <th>1</th>\n",
       "      <td>1</td>\n",
       "      <td>2013-01-01</td>\n",
       "      <td>1</td>\n",
       "      <td>BABY CARE</td>\n",
       "      <td>0.000</td>\n",
       "      <td>0</td>\n",
       "      <td>Quito</td>\n",
       "      <td>Pichincha</td>\n",
       "      <td>D</td>\n",
       "      <td>13</td>\n",
       "    </tr>\n",
       "    <tr>\n",
       "      <th>2</th>\n",
       "      <td>2</td>\n",
       "      <td>2013-01-01</td>\n",
       "      <td>1</td>\n",
       "      <td>BEAUTY</td>\n",
       "      <td>0.000</td>\n",
       "      <td>0</td>\n",
       "      <td>Quito</td>\n",
       "      <td>Pichincha</td>\n",
       "      <td>D</td>\n",
       "      <td>13</td>\n",
       "    </tr>\n",
       "    <tr>\n",
       "      <th>3</th>\n",
       "      <td>3</td>\n",
       "      <td>2013-01-01</td>\n",
       "      <td>1</td>\n",
       "      <td>BEVERAGES</td>\n",
       "      <td>0.000</td>\n",
       "      <td>0</td>\n",
       "      <td>Quito</td>\n",
       "      <td>Pichincha</td>\n",
       "      <td>D</td>\n",
       "      <td>13</td>\n",
       "    </tr>\n",
       "    <tr>\n",
       "      <th>4</th>\n",
       "      <td>4</td>\n",
       "      <td>2013-01-01</td>\n",
       "      <td>1</td>\n",
       "      <td>BOOKS</td>\n",
       "      <td>0.000</td>\n",
       "      <td>0</td>\n",
       "      <td>Quito</td>\n",
       "      <td>Pichincha</td>\n",
       "      <td>D</td>\n",
       "      <td>13</td>\n",
       "    </tr>\n",
       "    <tr>\n",
       "      <th>...</th>\n",
       "      <td>...</td>\n",
       "      <td>...</td>\n",
       "      <td>...</td>\n",
       "      <td>...</td>\n",
       "      <td>...</td>\n",
       "      <td>...</td>\n",
       "      <td>...</td>\n",
       "      <td>...</td>\n",
       "      <td>...</td>\n",
       "      <td>...</td>\n",
       "    </tr>\n",
       "    <tr>\n",
       "      <th>3054343</th>\n",
       "      <td>3000883</td>\n",
       "      <td>2017-08-15</td>\n",
       "      <td>9</td>\n",
       "      <td>POULTRY</td>\n",
       "      <td>438.133</td>\n",
       "      <td>0</td>\n",
       "      <td>Quito</td>\n",
       "      <td>Pichincha</td>\n",
       "      <td>B</td>\n",
       "      <td>6</td>\n",
       "    </tr>\n",
       "    <tr>\n",
       "      <th>3054344</th>\n",
       "      <td>3000884</td>\n",
       "      <td>2017-08-15</td>\n",
       "      <td>9</td>\n",
       "      <td>PREPARED FOODS</td>\n",
       "      <td>154.553</td>\n",
       "      <td>1</td>\n",
       "      <td>Quito</td>\n",
       "      <td>Pichincha</td>\n",
       "      <td>B</td>\n",
       "      <td>6</td>\n",
       "    </tr>\n",
       "    <tr>\n",
       "      <th>3054345</th>\n",
       "      <td>3000885</td>\n",
       "      <td>2017-08-15</td>\n",
       "      <td>9</td>\n",
       "      <td>PRODUCE</td>\n",
       "      <td>2419.729</td>\n",
       "      <td>148</td>\n",
       "      <td>Quito</td>\n",
       "      <td>Pichincha</td>\n",
       "      <td>B</td>\n",
       "      <td>6</td>\n",
       "    </tr>\n",
       "    <tr>\n",
       "      <th>3054346</th>\n",
       "      <td>3000886</td>\n",
       "      <td>2017-08-15</td>\n",
       "      <td>9</td>\n",
       "      <td>SCHOOL AND OFFICE SUPPLIES</td>\n",
       "      <td>121.000</td>\n",
       "      <td>8</td>\n",
       "      <td>Quito</td>\n",
       "      <td>Pichincha</td>\n",
       "      <td>B</td>\n",
       "      <td>6</td>\n",
       "    </tr>\n",
       "    <tr>\n",
       "      <th>3054347</th>\n",
       "      <td>3000887</td>\n",
       "      <td>2017-08-15</td>\n",
       "      <td>9</td>\n",
       "      <td>SEAFOOD</td>\n",
       "      <td>16.000</td>\n",
       "      <td>0</td>\n",
       "      <td>Quito</td>\n",
       "      <td>Pichincha</td>\n",
       "      <td>B</td>\n",
       "      <td>6</td>\n",
       "    </tr>\n",
       "  </tbody>\n",
       "</table>\n",
       "<p>3000888 rows × 10 columns</p>\n",
       "</div>"
      ],
      "text/plain": [
       "              id        date  store_nbr                      family     sales  \\\n",
       "0              0  2013-01-01          1                  AUTOMOTIVE     0.000   \n",
       "1              1  2013-01-01          1                   BABY CARE     0.000   \n",
       "2              2  2013-01-01          1                      BEAUTY     0.000   \n",
       "3              3  2013-01-01          1                   BEVERAGES     0.000   \n",
       "4              4  2013-01-01          1                       BOOKS     0.000   \n",
       "...          ...         ...        ...                         ...       ...   \n",
       "3054343  3000883  2017-08-15          9                     POULTRY   438.133   \n",
       "3054344  3000884  2017-08-15          9              PREPARED FOODS   154.553   \n",
       "3054345  3000885  2017-08-15          9                     PRODUCE  2419.729   \n",
       "3054346  3000886  2017-08-15          9  SCHOOL AND OFFICE SUPPLIES   121.000   \n",
       "3054347  3000887  2017-08-15          9                     SEAFOOD    16.000   \n",
       "\n",
       "         onpromotion   city      state type  cluster  \n",
       "0                  0  Quito  Pichincha    D       13  \n",
       "1                  0  Quito  Pichincha    D       13  \n",
       "2                  0  Quito  Pichincha    D       13  \n",
       "3                  0  Quito  Pichincha    D       13  \n",
       "4                  0  Quito  Pichincha    D       13  \n",
       "...              ...    ...        ...  ...      ...  \n",
       "3054343            0  Quito  Pichincha    B        6  \n",
       "3054344            1  Quito  Pichincha    B        6  \n",
       "3054345          148  Quito  Pichincha    B        6  \n",
       "3054346            8  Quito  Pichincha    B        6  \n",
       "3054347            0  Quito  Pichincha    B        6  \n",
       "\n",
       "[3000888 rows x 10 columns]"
      ]
     },
     "execution_count": 19,
     "metadata": {},
     "output_type": "execute_result"
    }
   ],
   "source": [
    "#dropping duplicate values\n",
    "\n",
    "train_df = train_df.drop_duplicates()\n",
    "train_df"
   ]
  },
  {
   "cell_type": "code",
   "execution_count": 20,
   "id": "ed5a4cb3",
   "metadata": {
    "execution": {
     "iopub.execute_input": "2023-05-14T10:13:51.964426Z",
     "iopub.status.busy": "2023-05-14T10:13:51.963128Z",
     "iopub.status.idle": "2023-05-14T10:13:54.863613Z",
     "shell.execute_reply": "2023-05-14T10:13:54.862357Z"
    },
    "papermill": {
     "duration": 2.930599,
     "end_time": "2023-05-14T10:13:54.866557",
     "exception": false,
     "start_time": "2023-05-14T10:13:51.935958",
     "status": "completed"
    },
    "tags": []
   },
   "outputs": [
    {
     "data": {
      "text/plain": [
       "False"
      ]
     },
     "execution_count": 20,
     "metadata": {},
     "output_type": "execute_result"
    }
   ],
   "source": [
    "train_df.duplicated().any()"
   ]
  },
  {
   "cell_type": "code",
   "execution_count": 21,
   "id": "a8255353",
   "metadata": {
    "execution": {
     "iopub.execute_input": "2023-05-14T10:13:54.923298Z",
     "iopub.status.busy": "2023-05-14T10:13:54.922860Z",
     "iopub.status.idle": "2023-05-14T10:13:54.941209Z",
     "shell.execute_reply": "2023-05-14T10:13:54.939919Z"
    },
    "papermill": {
     "duration": 0.049237,
     "end_time": "2023-05-14T10:13:54.943954",
     "exception": false,
     "start_time": "2023-05-14T10:13:54.894717",
     "status": "completed"
    },
    "tags": []
   },
   "outputs": [
    {
     "data": {
      "text/plain": [
       "False"
      ]
     },
     "execution_count": 21,
     "metadata": {},
     "output_type": "execute_result"
    }
   ],
   "source": [
    "test_df.duplicated().any()"
   ]
  },
  {
   "cell_type": "markdown",
   "id": "e96144f7",
   "metadata": {
    "papermill": {
     "duration": 0.026692,
     "end_time": "2023-05-14T10:13:54.999539",
     "exception": false,
     "start_time": "2023-05-14T10:13:54.972847",
     "status": "completed"
    },
    "tags": []
   },
   "source": [
    "# Check if there still any missing values present in the train_df\n"
   ]
  },
  {
   "cell_type": "code",
   "execution_count": 22,
   "id": "25ee7238",
   "metadata": {
    "execution": {
     "iopub.execute_input": "2023-05-14T10:13:55.056104Z",
     "iopub.status.busy": "2023-05-14T10:13:55.055225Z",
     "iopub.status.idle": "2023-05-14T10:13:59.741443Z",
     "shell.execute_reply": "2023-05-14T10:13:59.740143Z"
    },
    "papermill": {
     "duration": 4.718236,
     "end_time": "2023-05-14T10:13:59.744561",
     "exception": false,
     "start_time": "2023-05-14T10:13:55.026325",
     "status": "completed"
    },
    "tags": []
   },
   "outputs": [
    {
     "data": {
      "text/plain": [
       "id             0\n",
       "date           0\n",
       "store_nbr      0\n",
       "family         0\n",
       "sales          0\n",
       "onpromotion    0\n",
       "city           0\n",
       "state          0\n",
       "type           0\n",
       "cluster        0\n",
       "dtype: int64"
      ]
     },
     "execution_count": 22,
     "metadata": {},
     "output_type": "execute_result"
    }
   ],
   "source": [
    "train_df.isnull().sum()"
   ]
  },
  {
   "cell_type": "markdown",
   "id": "4eafbc66",
   "metadata": {
    "papermill": {
     "duration": 0.027845,
     "end_time": "2023-05-14T10:13:59.801422",
     "exception": false,
     "start_time": "2023-05-14T10:13:59.773577",
     "status": "completed"
    },
    "tags": []
   },
   "source": [
    "# Calculate count, mean, std, min, 25%, 50%, 75%, max values for each column. Prepare an analysis of the difference between mean and median for each column and possible reasons for the same."
   ]
  },
  {
   "cell_type": "code",
   "execution_count": 23,
   "id": "38d0ab0e",
   "metadata": {
    "execution": {
     "iopub.execute_input": "2023-05-14T10:13:59.859312Z",
     "iopub.status.busy": "2023-05-14T10:13:59.858181Z",
     "iopub.status.idle": "2023-05-14T10:14:00.285940Z",
     "shell.execute_reply": "2023-05-14T10:14:00.284000Z"
    },
    "papermill": {
     "duration": 0.459131,
     "end_time": "2023-05-14T10:14:00.289088",
     "exception": false,
     "start_time": "2023-05-14T10:13:59.829957",
     "status": "completed"
    },
    "tags": []
   },
   "outputs": [
    {
     "data": {
      "text/html": [
       "<div>\n",
       "<style scoped>\n",
       "    .dataframe tbody tr th:only-of-type {\n",
       "        vertical-align: middle;\n",
       "    }\n",
       "\n",
       "    .dataframe tbody tr th {\n",
       "        vertical-align: top;\n",
       "    }\n",
       "\n",
       "    .dataframe thead th {\n",
       "        text-align: right;\n",
       "    }\n",
       "</style>\n",
       "<table border=\"1\" class=\"dataframe\">\n",
       "  <thead>\n",
       "    <tr style=\"text-align: right;\">\n",
       "      <th></th>\n",
       "      <th>id</th>\n",
       "      <th>store_nbr</th>\n",
       "      <th>sales</th>\n",
       "      <th>onpromotion</th>\n",
       "      <th>cluster</th>\n",
       "    </tr>\n",
       "  </thead>\n",
       "  <tbody>\n",
       "    <tr>\n",
       "      <th>count</th>\n",
       "      <td>3.000888e+06</td>\n",
       "      <td>3.000888e+06</td>\n",
       "      <td>3.000888e+06</td>\n",
       "      <td>3.000888e+06</td>\n",
       "      <td>3.000888e+06</td>\n",
       "    </tr>\n",
       "    <tr>\n",
       "      <th>mean</th>\n",
       "      <td>1.500444e+06</td>\n",
       "      <td>2.750000e+01</td>\n",
       "      <td>3.577757e+02</td>\n",
       "      <td>2.602770e+00</td>\n",
       "      <td>8.481481e+00</td>\n",
       "    </tr>\n",
       "    <tr>\n",
       "      <th>std</th>\n",
       "      <td>8.662819e+05</td>\n",
       "      <td>1.558579e+01</td>\n",
       "      <td>1.101998e+03</td>\n",
       "      <td>1.221888e+01</td>\n",
       "      <td>4.649735e+00</td>\n",
       "    </tr>\n",
       "    <tr>\n",
       "      <th>min</th>\n",
       "      <td>0.000000e+00</td>\n",
       "      <td>1.000000e+00</td>\n",
       "      <td>0.000000e+00</td>\n",
       "      <td>0.000000e+00</td>\n",
       "      <td>1.000000e+00</td>\n",
       "    </tr>\n",
       "    <tr>\n",
       "      <th>25%</th>\n",
       "      <td>7.502218e+05</td>\n",
       "      <td>1.400000e+01</td>\n",
       "      <td>0.000000e+00</td>\n",
       "      <td>0.000000e+00</td>\n",
       "      <td>4.000000e+00</td>\n",
       "    </tr>\n",
       "    <tr>\n",
       "      <th>50%</th>\n",
       "      <td>1.500444e+06</td>\n",
       "      <td>2.750000e+01</td>\n",
       "      <td>1.100000e+01</td>\n",
       "      <td>0.000000e+00</td>\n",
       "      <td>8.500000e+00</td>\n",
       "    </tr>\n",
       "    <tr>\n",
       "      <th>75%</th>\n",
       "      <td>2.250665e+06</td>\n",
       "      <td>4.100000e+01</td>\n",
       "      <td>1.958473e+02</td>\n",
       "      <td>0.000000e+00</td>\n",
       "      <td>1.300000e+01</td>\n",
       "    </tr>\n",
       "    <tr>\n",
       "      <th>max</th>\n",
       "      <td>3.000887e+06</td>\n",
       "      <td>5.400000e+01</td>\n",
       "      <td>1.247170e+05</td>\n",
       "      <td>7.410000e+02</td>\n",
       "      <td>1.700000e+01</td>\n",
       "    </tr>\n",
       "  </tbody>\n",
       "</table>\n",
       "</div>"
      ],
      "text/plain": [
       "                 id     store_nbr         sales   onpromotion       cluster\n",
       "count  3.000888e+06  3.000888e+06  3.000888e+06  3.000888e+06  3.000888e+06\n",
       "mean   1.500444e+06  2.750000e+01  3.577757e+02  2.602770e+00  8.481481e+00\n",
       "std    8.662819e+05  1.558579e+01  1.101998e+03  1.221888e+01  4.649735e+00\n",
       "min    0.000000e+00  1.000000e+00  0.000000e+00  0.000000e+00  1.000000e+00\n",
       "25%    7.502218e+05  1.400000e+01  0.000000e+00  0.000000e+00  4.000000e+00\n",
       "50%    1.500444e+06  2.750000e+01  1.100000e+01  0.000000e+00  8.500000e+00\n",
       "75%    2.250665e+06  4.100000e+01  1.958473e+02  0.000000e+00  1.300000e+01\n",
       "max    3.000887e+06  5.400000e+01  1.247170e+05  7.410000e+02  1.700000e+01"
      ]
     },
     "execution_count": 23,
     "metadata": {},
     "output_type": "execute_result"
    }
   ],
   "source": [
    "train_df.describe()"
   ]
  },
  {
   "cell_type": "markdown",
   "id": "2dc79106",
   "metadata": {
    "papermill": {
     "duration": 0.026763,
     "end_time": "2023-05-14T10:14:00.345335",
     "exception": false,
     "start_time": "2023-05-14T10:14:00.318572",
     "status": "completed"
    },
    "tags": []
   },
   "source": [
    "# EDA "
   ]
  },
  {
   "cell_type": "code",
   "execution_count": 24,
   "id": "e7f7da46",
   "metadata": {
    "execution": {
     "iopub.execute_input": "2023-05-14T10:14:00.404341Z",
     "iopub.status.busy": "2023-05-14T10:14:00.403898Z",
     "iopub.status.idle": "2023-05-14T10:14:00.416713Z",
     "shell.execute_reply": "2023-05-14T10:14:00.415175Z"
    },
    "papermill": {
     "duration": 0.047325,
     "end_time": "2023-05-14T10:14:00.419496",
     "exception": false,
     "start_time": "2023-05-14T10:14:00.372171",
     "status": "completed"
    },
    "tags": []
   },
   "outputs": [
    {
     "name": "stdout",
     "output_type": "stream",
     "text": [
      "<class 'pandas.core.frame.DataFrame'>\n",
      "Int64Index: 3000888 entries, 0 to 3054347\n",
      "Data columns (total 10 columns):\n",
      " #   Column       Dtype  \n",
      "---  ------       -----  \n",
      " 0   id           int64  \n",
      " 1   date         object \n",
      " 2   store_nbr    int64  \n",
      " 3   family       object \n",
      " 4   sales        float64\n",
      " 5   onpromotion  int64  \n",
      " 6   city         object \n",
      " 7   state        object \n",
      " 8   type         object \n",
      " 9   cluster      int64  \n",
      "dtypes: float64(1), int64(4), object(5)\n",
      "memory usage: 251.8+ MB\n"
     ]
    }
   ],
   "source": [
    "train_df.info()"
   ]
  },
  {
   "cell_type": "markdown",
   "id": "4ab0d0c3",
   "metadata": {
    "papermill": {
     "duration": 0.027974,
     "end_time": "2023-05-14T10:14:00.474641",
     "exception": false,
     "start_time": "2023-05-14T10:14:00.446667",
     "status": "completed"
    },
    "tags": []
   },
   "source": [
    "## Questions\n",
    "\n",
    "1. Does the type of stores affect the store sales? \n",
    "\n",
    "2. Which family is having the highest sales? \n",
    "\n",
    "3. Does promotion able to improve the sales? \n",
    "\n",
    "4. Which city is having the most number of customers? \n",
    "\n",
    "5. Which state is having the most number of customers? \n",
    "\n",
    "6. Which of the stores has the highest sales. \n",
    "\n",
    "7. Which month is having the most sales, and least sales. \n",
    "\n"
   ]
  },
  {
   "cell_type": "markdown",
   "id": "23ff0772",
   "metadata": {
    "papermill": {
     "duration": 0.026631,
     "end_time": "2023-05-14T10:14:00.529007",
     "exception": false,
     "start_time": "2023-05-14T10:14:00.502376",
     "status": "completed"
    },
    "tags": []
   },
   "source": [
    "### 1. Does the type of stores affect the store sales?"
   ]
  },
  {
   "cell_type": "markdown",
   "id": "6b0d756e",
   "metadata": {
    "papermill": {
     "duration": 0.027553,
     "end_time": "2023-05-14T10:14:00.585626",
     "exception": false,
     "start_time": "2023-05-14T10:14:00.558073",
     "status": "completed"
    },
    "tags": []
   },
   "source": [
    "To answer the first question 'Does the type of stores affect the store sales?' , i will use ANOVA test. \n",
    "ANOVA (Analysis of Variance) is a statistical test used to determine whether there are significant differences between the means of two or more groups. It compares the variation between the groups (due to the different categories or factors) to the variation within the groups.\n",
    "\n",
    "\n",
    "H0 (>0.05)= The type of stores does not affect store sales. There is no significant difference in store sales between different types of stores.\n",
    "\n",
    "H1 (<0.05)= The type of stores does affect store sales. There is a significant difference in store sales between different types of stores.\n",
    "\n"
   ]
  },
  {
   "cell_type": "code",
   "execution_count": 25,
   "id": "56da6124",
   "metadata": {
    "execution": {
     "iopub.execute_input": "2023-05-14T10:14:00.645763Z",
     "iopub.status.busy": "2023-05-14T10:14:00.644958Z",
     "iopub.status.idle": "2023-05-14T10:14:01.109832Z",
     "shell.execute_reply": "2023-05-14T10:14:01.108324Z"
    },
    "papermill": {
     "duration": 0.498582,
     "end_time": "2023-05-14T10:14:01.112801",
     "exception": false,
     "start_time": "2023-05-14T10:14:00.614219",
     "status": "completed"
    },
    "tags": []
   },
   "outputs": [
    {
     "name": "stdout",
     "output_type": "stream",
     "text": [
      "F-Statistic: 17766.023730362205\n",
      "p-value: 0.0\n"
     ]
    }
   ],
   "source": [
    "grouped_data = train_df.groupby('type')['sales']\n",
    "\n",
    "# Perform the ANOVA test\n",
    "f_statistic, p_value = stats.f_oneway(*[grouped_data.get_group(type) for type in grouped_data.groups])\n",
    "\n",
    "# Print the results\n",
    "print(\"F-Statistic:\", f_statistic)\n",
    "print(\"p-value:\", p_value)\n"
   ]
  },
  {
   "cell_type": "markdown",
   "id": "27d5753e",
   "metadata": {
    "papermill": {
     "duration": 0.028626,
     "end_time": "2023-05-14T10:14:01.168532",
     "exception": false,
     "start_time": "2023-05-14T10:14:01.139906",
     "status": "completed"
    },
    "tags": []
   },
   "source": [
    "Based on the F-statistics and p-value above, we reject null hypothesis and accept alternative hypothesis. Hence, the type of stores does affect the store sales. There is a significant difference in store sales between different type. "
   ]
  },
  {
   "cell_type": "code",
   "execution_count": 26,
   "id": "dc47e1ae",
   "metadata": {
    "execution": {
     "iopub.execute_input": "2023-05-14T10:14:01.224553Z",
     "iopub.status.busy": "2023-05-14T10:14:01.224152Z",
     "iopub.status.idle": "2023-05-14T10:14:08.939908Z",
     "shell.execute_reply": "2023-05-14T10:14:08.938579Z"
    },
    "papermill": {
     "duration": 7.746788,
     "end_time": "2023-05-14T10:14:08.942606",
     "exception": false,
     "start_time": "2023-05-14T10:14:01.195818",
     "status": "completed"
    },
    "tags": []
   },
   "outputs": [
    {
     "data": {
      "image/png": "[encoded data removed]",
      "text/plain": [
       "<Figure size 432x288 with 1 Axes>"
      ]
     },
     "metadata": {
      "needs_background": "light"
     },
     "output_type": "display_data"
    }
   ],
   "source": [
    "# Sales Vs Type\n",
    "\n",
    "plt.scatter(train_df['type'], train_df['sales'])\n",
    "\n",
    "plt.ylabel('sales')\n",
    "plt.xlabel('type')\n",
    "\n",
    "plt.show()\n",
    "     "
   ]
  },
  {
   "cell_type": "markdown",
   "id": "5392b099",
   "metadata": {
    "papermill": {
     "duration": 0.029138,
     "end_time": "2023-05-14T10:14:09.001083",
     "exception": false,
     "start_time": "2023-05-14T10:14:08.971945",
     "status": "completed"
    },
    "tags": []
   },
   "source": [
    "### 2. Which family is having the highest sales?"
   ]
  },
  {
   "cell_type": "code",
   "execution_count": 27,
   "id": "59664498",
   "metadata": {
    "execution": {
     "iopub.execute_input": "2023-05-14T10:14:09.060671Z",
     "iopub.status.busy": "2023-05-14T10:14:09.060211Z",
     "iopub.status.idle": "2023-05-14T10:14:09.595302Z",
     "shell.execute_reply": "2023-05-14T10:14:09.593514Z"
    },
    "papermill": {
     "duration": 0.569966,
     "end_time": "2023-05-14T10:14:09.599568",
     "exception": false,
     "start_time": "2023-05-14T10:14:09.029602",
     "status": "completed"
    },
    "tags": []
   },
   "outputs": [
    {
     "data": {
      "image/png": "[encoded data removed]",
      "text/plain": [
       "<Figure size 432x288 with 1 Axes>"
      ]
     },
     "metadata": {},
     "output_type": "display_data"
    }
   ],
   "source": [
    "#Pie chart\n",
    "\n",
    "# Group the data by family and calculate the total sales for each family\n",
    "family_sales = train_df.groupby('family')['sales'].sum()\n",
    "\n",
    "# Sort the families based on sales in descending order\n",
    "family_sales_sorted = family_sales.sort_values(ascending=False)\n",
    "\n",
    "# Get the top 5 families with the highest sales\n",
    "top_families = family_sales_sorted.head(5)\n",
    "\n",
    "# Create the pie chart\n",
    "plt.pie(top_families, labels=top_families.index, autopct='%1.1f%%', startangle=90)\n",
    "\n",
    "plt.title('Distribution of Sales by Family')\n",
    "\n",
    "plt.axis('equal')  \n",
    "plt.show()"
   ]
  },
  {
   "cell_type": "markdown",
   "id": "4d3e0e87",
   "metadata": {
    "papermill": {
     "duration": 0.028239,
     "end_time": "2023-05-14T10:14:09.666878",
     "exception": false,
     "start_time": "2023-05-14T10:14:09.638639",
     "status": "completed"
    },
    "tags": []
   },
   "source": [
    "Based on the pie chart above, the GROCERY I is having the highest sales, and Baverages comes second highest. "
   ]
  },
  {
   "cell_type": "markdown",
   "id": "ef16e315",
   "metadata": {
    "papermill": {
     "duration": 0.027787,
     "end_time": "2023-05-14T10:14:09.723271",
     "exception": false,
     "start_time": "2023-05-14T10:14:09.695484",
     "status": "completed"
    },
    "tags": []
   },
   "source": [
    "### 3. Does promotion able to improve the sales?"
   ]
  },
  {
   "cell_type": "markdown",
   "id": "e5eb767a",
   "metadata": {
    "papermill": {
     "duration": 0.027449,
     "end_time": "2023-05-14T10:14:09.778833",
     "exception": false,
     "start_time": "2023-05-14T10:14:09.751384",
     "status": "completed"
    },
    "tags": []
   },
   "source": [
    "To answer the 3rd question \"Does promotion able to improve the sales?\" I will use Pearson correlation test to determine the relationship between the two variables, as both of the variables are numericals. The Pearson correlation coefficient measures the linear relationship between two continuous variables and ranges from -1 to +1.\n",
    "\n",
    "H0 (>0.05)= The promotion does not affect store sales. \n",
    "\n",
    "H1 (<0.05)= The promotion does affect store sales. \n"
   ]
  },
  {
   "cell_type": "code",
   "execution_count": 28,
   "id": "9b3e23a8",
   "metadata": {
    "execution": {
     "iopub.execute_input": "2023-05-14T10:14:09.837157Z",
     "iopub.status.busy": "2023-05-14T10:14:09.836407Z",
     "iopub.status.idle": "2023-05-14T10:14:09.909226Z",
     "shell.execute_reply": "2023-05-14T10:14:09.907812Z"
    },
    "papermill": {
     "duration": 0.106753,
     "end_time": "2023-05-14T10:14:09.913629",
     "exception": false,
     "start_time": "2023-05-14T10:14:09.806876",
     "status": "completed"
    },
    "tags": []
   },
   "outputs": [
    {
     "name": "stdout",
     "output_type": "stream",
     "text": [
      "Pearson correlation coefficient: 0.4279232048120993\n",
      "p-value: 0.0\n"
     ]
    }
   ],
   "source": [
    "correlation, p_value = pearsonr(train_df['onpromotion'], train_df['sales'])\n",
    "\n",
    "print(\"Pearson correlation coefficient:\", correlation)\n",
    "print(\"p-value:\", p_value)"
   ]
  },
  {
   "cell_type": "markdown",
   "id": "58c8b38f",
   "metadata": {
    "papermill": {
     "duration": 0.053192,
     "end_time": "2023-05-14T10:14:10.028926",
     "exception": false,
     "start_time": "2023-05-14T10:14:09.975734",
     "status": "completed"
    },
    "tags": []
   },
   "source": [
    "Based on the Pearson correlation coefficient of 0.4279 and the p-value of 0.0, we can reject the null hypothesis (H0) and conclude that there is a significant relationship between promotion and store sales. Therefore, the promotion does affect store sales."
   ]
  },
  {
   "cell_type": "code",
   "execution_count": 29,
   "id": "146fa9ba",
   "metadata": {
    "execution": {
     "iopub.execute_input": "2023-05-14T10:14:10.089493Z",
     "iopub.status.busy": "2023-05-14T10:14:10.089000Z",
     "iopub.status.idle": "2023-05-14T10:14:16.660476Z",
     "shell.execute_reply": "2023-05-14T10:14:16.659289Z"
    },
    "papermill": {
     "duration": 6.604629,
     "end_time": "2023-05-14T10:14:16.663192",
     "exception": false,
     "start_time": "2023-05-14T10:14:10.058563",
     "status": "completed"
    },
    "tags": []
   },
   "outputs": [
    {
     "data": {
      "image/png": "[encoded data removed]",
      "text/plain": [
       "<Figure size 432x288 with 1 Axes>"
      ]
     },
     "metadata": {
      "needs_background": "light"
     },
     "output_type": "display_data"
    }
   ],
   "source": [
    "# Scatter plot\n",
    "plt.scatter(train_df['onpromotion'], train_df['sales'])\n",
    "\n",
    "plt.xlabel('Promotion')\n",
    "plt.ylabel('Sales')\n",
    "plt.title('Promotion vs Sales')\n",
    "\n",
    "plt.show()\n"
   ]
  },
  {
   "cell_type": "markdown",
   "id": "d1a4a7d2",
   "metadata": {
    "papermill": {
     "duration": 0.030942,
     "end_time": "2023-05-14T10:14:16.724394",
     "exception": false,
     "start_time": "2023-05-14T10:14:16.693452",
     "status": "completed"
    },
    "tags": []
   },
   "source": [
    "### 4. Which city is having the most most number of customers?"
   ]
  },
  {
   "cell_type": "code",
   "execution_count": 30,
   "id": "e51fe8ed",
   "metadata": {
    "execution": {
     "iopub.execute_input": "2023-05-14T10:14:16.788908Z",
     "iopub.status.busy": "2023-05-14T10:14:16.788514Z",
     "iopub.status.idle": "2023-05-14T10:14:20.384734Z",
     "shell.execute_reply": "2023-05-14T10:14:20.383495Z"
    },
    "papermill": {
     "duration": 3.630537,
     "end_time": "2023-05-14T10:14:20.387286",
     "exception": false,
     "start_time": "2023-05-14T10:14:16.756749",
     "status": "completed"
    },
    "tags": []
   },
   "outputs": [
    {
     "data": {
      "image/png": "[encoded data removed]",
      "text/plain": [
       "<Figure size 720x432 with 1 Axes>"
      ]
     },
     "metadata": {
      "needs_background": "light"
     },
     "output_type": "display_data"
    }
   ],
   "source": [
    "#Count Plot \n",
    "\n",
    "# Create a count plot\n",
    "plt.figure(figsize=(10, 6))  # Set the figure size\n",
    "sns.countplot(data=train_df, x='city')\n",
    "\n",
    "plt.xlabel('City')\n",
    "plt.ylabel('Count')\n",
    "plt.title('Sales Distribution by City')\n",
    "\n",
    "plt.xticks(rotation=45)\n",
    "\n",
    "plt.show()\n"
   ]
  },
  {
   "cell_type": "markdown",
   "id": "f7c5f812",
   "metadata": {
    "papermill": {
     "duration": 0.029835,
     "end_time": "2023-05-14T10:14:20.447457",
     "exception": false,
     "start_time": "2023-05-14T10:14:20.417622",
     "status": "completed"
    },
    "tags": []
   },
   "source": [
    "Based on the count plot above, the Quito city has the most sales. "
   ]
  },
  {
   "cell_type": "markdown",
   "id": "ec99f26a",
   "metadata": {
    "papermill": {
     "duration": 0.029441,
     "end_time": "2023-05-14T10:14:20.507157",
     "exception": false,
     "start_time": "2023-05-14T10:14:20.477716",
     "status": "completed"
    },
    "tags": []
   },
   "source": [
    "### 5. Which state is having the most number of customers?\n"
   ]
  },
  {
   "cell_type": "code",
   "execution_count": 31,
   "id": "7924b11c",
   "metadata": {
    "execution": {
     "iopub.execute_input": "2023-05-14T10:14:20.570318Z",
     "iopub.status.busy": "2023-05-14T10:14:20.569602Z",
     "iopub.status.idle": "2023-05-14T10:14:24.173796Z",
     "shell.execute_reply": "2023-05-14T10:14:24.172795Z"
    },
    "papermill": {
     "duration": 3.639016,
     "end_time": "2023-05-14T10:14:24.176174",
     "exception": false,
     "start_time": "2023-05-14T10:14:20.537158",
     "status": "completed"
    },
    "tags": []
   },
   "outputs": [
    {
     "data": {
      "image/png": "[encoded data removed]",
      "text/plain": [
       "<Figure size 720x432 with 1 Axes>"
      ]
     },
     "metadata": {
      "needs_background": "light"
     },
     "output_type": "display_data"
    }
   ],
   "source": [
    "#Count Plot \n",
    "\n",
    "# Create a count plot\n",
    "plt.figure(figsize=(10, 6))  # Set the figure size\n",
    "sns.countplot(data=train_df, x='state')\n",
    "\n",
    "plt.xlabel('state')\n",
    "plt.ylabel('Count')\n",
    "plt.title('Sales Distribution by City')\n",
    "\n",
    "plt.xticks(rotation=45)\n",
    "\n",
    "plt.show()"
   ]
  },
  {
   "cell_type": "markdown",
   "id": "50abeeb8",
   "metadata": {
    "papermill": {
     "duration": 0.033557,
     "end_time": "2023-05-14T10:14:24.241566",
     "exception": false,
     "start_time": "2023-05-14T10:14:24.208009",
     "status": "completed"
    },
    "tags": []
   },
   "source": [
    "Based on the count plot above, Pichincha state has the most sales as compared to other states. "
   ]
  },
  {
   "cell_type": "markdown",
   "id": "3ce37b97",
   "metadata": {
    "papermill": {
     "duration": 0.030695,
     "end_time": "2023-05-14T10:14:24.306134",
     "exception": false,
     "start_time": "2023-05-14T10:14:24.275439",
     "status": "completed"
    },
    "tags": []
   },
   "source": [
    "### 6. Which of the stores has the highest sales. "
   ]
  },
  {
   "cell_type": "code",
   "execution_count": 32,
   "id": "f034f30d",
   "metadata": {
    "execution": {
     "iopub.execute_input": "2023-05-14T10:14:24.376676Z",
     "iopub.status.busy": "2023-05-14T10:14:24.375928Z",
     "iopub.status.idle": "2023-05-14T10:14:25.356927Z",
     "shell.execute_reply": "2023-05-14T10:14:25.355912Z"
    },
    "papermill": {
     "duration": 1.017705,
     "end_time": "2023-05-14T10:14:25.359508",
     "exception": false,
     "start_time": "2023-05-14T10:14:24.341803",
     "status": "completed"
    },
    "tags": []
   },
   "outputs": [
    {
     "data": {
      "image/png": "[encoded data removed]",
      "text/plain": [
       "<Figure size 864x432 with 1 Axes>"
      ]
     },
     "metadata": {
      "needs_background": "light"
     },
     "output_type": "display_data"
    }
   ],
   "source": [
    "# Calculate the total sales for each store\n",
    "store_sales = train_df.groupby('store_nbr')['sales'].sum().reset_index()\n",
    "\n",
    "# Sort the stores based on sales in descending order\n",
    "store_sales = store_sales.sort_values('sales', ascending=False)\n",
    "\n",
    "# Create a bar plot\n",
    "plt.figure(figsize=(12, 6))\n",
    "sns.barplot(data=store_sales, x='store_nbr', y='sales')\n",
    "\n",
    "plt.xlabel('Store Number')\n",
    "plt.ylabel('Total Sales')\n",
    "plt.title('Total Sales by Store')\n",
    "\n",
    "plt.xticks(rotation=45)\n",
    "\n",
    "plt.show()\n",
    "\n"
   ]
  },
  {
   "cell_type": "markdown",
   "id": "3391ef82",
   "metadata": {
    "papermill": {
     "duration": 0.031121,
     "end_time": "2023-05-14T10:14:25.422873",
     "exception": false,
     "start_time": "2023-05-14T10:14:25.391752",
     "status": "completed"
    },
    "tags": []
   },
   "source": [
    "### 7. Which month is having the most sales, and least sales. "
   ]
  },
  {
   "cell_type": "code",
   "execution_count": 33,
   "id": "58e5905a",
   "metadata": {
    "execution": {
     "iopub.execute_input": "2023-05-14T10:14:25.492988Z",
     "iopub.status.busy": "2023-05-14T10:14:25.492225Z",
     "iopub.status.idle": "2023-05-14T10:14:26.702390Z",
     "shell.execute_reply": "2023-05-14T10:14:26.700957Z"
    },
    "papermill": {
     "duration": 1.249009,
     "end_time": "2023-05-14T10:14:26.705536",
     "exception": false,
     "start_time": "2023-05-14T10:14:25.456527",
     "status": "completed"
    },
    "tags": []
   },
   "outputs": [],
   "source": [
    "#First convert the 'date' from object to date time \n",
    "\n",
    "train_df['date']= pd.to_datetime(train_df['date'])\n",
    "\n",
    "\n",
    "# create new columns 'month' 'year'\n",
    "train_df['month'] = train_df['date'].dt.month\n",
    "train_df['year'] = train_df['date'].dt.year"
   ]
  },
  {
   "cell_type": "code",
   "execution_count": 34,
   "id": "300fb176",
   "metadata": {
    "execution": {
     "iopub.execute_input": "2023-05-14T10:14:26.773708Z",
     "iopub.status.busy": "2023-05-14T10:14:26.772912Z",
     "iopub.status.idle": "2023-05-14T10:14:26.796408Z",
     "shell.execute_reply": "2023-05-14T10:14:26.794967Z"
    },
    "papermill": {
     "duration": 0.060974,
     "end_time": "2023-05-14T10:14:26.800114",
     "exception": false,
     "start_time": "2023-05-14T10:14:26.739140",
     "status": "completed"
    },
    "tags": []
   },
   "outputs": [
    {
     "data": {
      "text/html": [
       "<div>\n",
       "<style scoped>\n",
       "    .dataframe tbody tr th:only-of-type {\n",
       "        vertical-align: middle;\n",
       "    }\n",
       "\n",
       "    .dataframe tbody tr th {\n",
       "        vertical-align: top;\n",
       "    }\n",
       "\n",
       "    .dataframe thead th {\n",
       "        text-align: right;\n",
       "    }\n",
       "</style>\n",
       "<table border=\"1\" class=\"dataframe\">\n",
       "  <thead>\n",
       "    <tr style=\"text-align: right;\">\n",
       "      <th></th>\n",
       "      <th>id</th>\n",
       "      <th>date</th>\n",
       "      <th>store_nbr</th>\n",
       "      <th>family</th>\n",
       "      <th>sales</th>\n",
       "      <th>onpromotion</th>\n",
       "      <th>city</th>\n",
       "      <th>state</th>\n",
       "      <th>type</th>\n",
       "      <th>cluster</th>\n",
       "      <th>month</th>\n",
       "      <th>year</th>\n",
       "    </tr>\n",
       "  </thead>\n",
       "  <tbody>\n",
       "    <tr>\n",
       "      <th>0</th>\n",
       "      <td>0</td>\n",
       "      <td>2013-01-01</td>\n",
       "      <td>1</td>\n",
       "      <td>AUTOMOTIVE</td>\n",
       "      <td>0.0</td>\n",
       "      <td>0</td>\n",
       "      <td>Quito</td>\n",
       "      <td>Pichincha</td>\n",
       "      <td>D</td>\n",
       "      <td>13</td>\n",
       "      <td>1</td>\n",
       "      <td>2013</td>\n",
       "    </tr>\n",
       "    <tr>\n",
       "      <th>1</th>\n",
       "      <td>1</td>\n",
       "      <td>2013-01-01</td>\n",
       "      <td>1</td>\n",
       "      <td>BABY CARE</td>\n",
       "      <td>0.0</td>\n",
       "      <td>0</td>\n",
       "      <td>Quito</td>\n",
       "      <td>Pichincha</td>\n",
       "      <td>D</td>\n",
       "      <td>13</td>\n",
       "      <td>1</td>\n",
       "      <td>2013</td>\n",
       "    </tr>\n",
       "    <tr>\n",
       "      <th>2</th>\n",
       "      <td>2</td>\n",
       "      <td>2013-01-01</td>\n",
       "      <td>1</td>\n",
       "      <td>BEAUTY</td>\n",
       "      <td>0.0</td>\n",
       "      <td>0</td>\n",
       "      <td>Quito</td>\n",
       "      <td>Pichincha</td>\n",
       "      <td>D</td>\n",
       "      <td>13</td>\n",
       "      <td>1</td>\n",
       "      <td>2013</td>\n",
       "    </tr>\n",
       "    <tr>\n",
       "      <th>3</th>\n",
       "      <td>3</td>\n",
       "      <td>2013-01-01</td>\n",
       "      <td>1</td>\n",
       "      <td>BEVERAGES</td>\n",
       "      <td>0.0</td>\n",
       "      <td>0</td>\n",
       "      <td>Quito</td>\n",
       "      <td>Pichincha</td>\n",
       "      <td>D</td>\n",
       "      <td>13</td>\n",
       "      <td>1</td>\n",
       "      <td>2013</td>\n",
       "    </tr>\n",
       "    <tr>\n",
       "      <th>4</th>\n",
       "      <td>4</td>\n",
       "      <td>2013-01-01</td>\n",
       "      <td>1</td>\n",
       "      <td>BOOKS</td>\n",
       "      <td>0.0</td>\n",
       "      <td>0</td>\n",
       "      <td>Quito</td>\n",
       "      <td>Pichincha</td>\n",
       "      <td>D</td>\n",
       "      <td>13</td>\n",
       "      <td>1</td>\n",
       "      <td>2013</td>\n",
       "    </tr>\n",
       "    <tr>\n",
       "      <th>5</th>\n",
       "      <td>5</td>\n",
       "      <td>2013-01-01</td>\n",
       "      <td>1</td>\n",
       "      <td>BREAD/BAKERY</td>\n",
       "      <td>0.0</td>\n",
       "      <td>0</td>\n",
       "      <td>Quito</td>\n",
       "      <td>Pichincha</td>\n",
       "      <td>D</td>\n",
       "      <td>13</td>\n",
       "      <td>1</td>\n",
       "      <td>2013</td>\n",
       "    </tr>\n",
       "    <tr>\n",
       "      <th>6</th>\n",
       "      <td>6</td>\n",
       "      <td>2013-01-01</td>\n",
       "      <td>1</td>\n",
       "      <td>CELEBRATION</td>\n",
       "      <td>0.0</td>\n",
       "      <td>0</td>\n",
       "      <td>Quito</td>\n",
       "      <td>Pichincha</td>\n",
       "      <td>D</td>\n",
       "      <td>13</td>\n",
       "      <td>1</td>\n",
       "      <td>2013</td>\n",
       "    </tr>\n",
       "  </tbody>\n",
       "</table>\n",
       "</div>"
      ],
      "text/plain": [
       "   id       date  store_nbr        family  sales  onpromotion   city  \\\n",
       "0   0 2013-01-01          1    AUTOMOTIVE    0.0            0  Quito   \n",
       "1   1 2013-01-01          1     BABY CARE    0.0            0  Quito   \n",
       "2   2 2013-01-01          1        BEAUTY    0.0            0  Quito   \n",
       "3   3 2013-01-01          1     BEVERAGES    0.0            0  Quito   \n",
       "4   4 2013-01-01          1         BOOKS    0.0            0  Quito   \n",
       "5   5 2013-01-01          1  BREAD/BAKERY    0.0            0  Quito   \n",
       "6   6 2013-01-01          1   CELEBRATION    0.0            0  Quito   \n",
       "\n",
       "       state type  cluster  month  year  \n",
       "0  Pichincha    D       13      1  2013  \n",
       "1  Pichincha    D       13      1  2013  \n",
       "2  Pichincha    D       13      1  2013  \n",
       "3  Pichincha    D       13      1  2013  \n",
       "4  Pichincha    D       13      1  2013  \n",
       "5  Pichincha    D       13      1  2013  \n",
       "6  Pichincha    D       13      1  2013  "
      ]
     },
     "execution_count": 34,
     "metadata": {},
     "output_type": "execute_result"
    }
   ],
   "source": [
    "train_df.head(7)"
   ]
  },
  {
   "cell_type": "code",
   "execution_count": 35,
   "id": "c95412dc",
   "metadata": {
    "execution": {
     "iopub.execute_input": "2023-05-14T10:14:26.872883Z",
     "iopub.status.busy": "2023-05-14T10:14:26.872026Z",
     "iopub.status.idle": "2023-05-14T10:14:27.461544Z",
     "shell.execute_reply": "2023-05-14T10:14:27.459908Z"
    },
    "papermill": {
     "duration": 0.627761,
     "end_time": "2023-05-14T10:14:27.464198",
     "exception": false,
     "start_time": "2023-05-14T10:14:26.836437",
     "status": "completed"
    },
    "tags": []
   },
   "outputs": [
    {
     "data": {
      "image/png": "[encoded data removed]",
      "text/plain": [
       "<Figure size 720x432 with 1 Axes>"
      ]
     },
     "metadata": {
      "needs_background": "light"
     },
     "output_type": "display_data"
    }
   ],
   "source": [
    "# Group the data by month, year, and calculate the total sales\n",
    "monthly_sales = train_df.groupby(['month', 'year'])['sales'].sum().reset_index()\n",
    "\n",
    "# Create the line chart\n",
    "plt.figure(figsize=(10, 6))  # Set the figure size\n",
    "\n",
    "# Get unique years and cycle through colors\n",
    "years = monthly_sales['year'].unique()\n",
    "colors = itertools.cycle(['red', 'green', 'blue', 'orange', 'purple'])\n",
    "\n",
    "for year in years:\n",
    "    year_data = monthly_sales[monthly_sales['year'] == year]\n",
    "    plt.plot(year_data['month'], year_data['sales'], marker='o', color=next(colors), label=str(year))\n",
    "\n",
    "plt.xlabel('Month')\n",
    "plt.ylabel('Sales')\n",
    "plt.title('Monthly Sales Trend')\n",
    "\n",
    "# Customize x-axis ticks to show month names\n",
    "month_names = ['Jan', 'Feb', 'Mar', 'Apr', 'May', 'Jun', 'Jul', 'Aug', 'Sep', 'Oct', 'Nov', 'Dec']\n",
    "plt.xticks(range(1, 13), month_names)\n",
    "\n",
    "\n",
    "plt.legend()\n",
    "\n",
    "plt.show()\n"
   ]
  },
  {
   "cell_type": "markdown",
   "id": "53aa9d2f",
   "metadata": {
    "papermill": {
     "duration": 0.033218,
     "end_time": "2023-05-14T10:14:27.534145",
     "exception": false,
     "start_time": "2023-05-14T10:14:27.500927",
     "status": "completed"
    },
    "tags": []
   },
   "source": [
    "Overall, the orange line which is 2016 has a stable high sales since January to Dec. Between the months in 2016, December had the most sales. In other hand, in comparing to other years, 2013 had an overall lowest sales achieved, especially during February. "
   ]
  },
  {
   "cell_type": "code",
   "execution_count": 36,
   "id": "02381057",
   "metadata": {
    "execution": {
     "iopub.execute_input": "2023-05-14T10:14:27.606823Z",
     "iopub.status.busy": "2023-05-14T10:14:27.606366Z",
     "iopub.status.idle": "2023-05-14T10:14:27.885904Z",
     "shell.execute_reply": "2023-05-14T10:14:27.883893Z"
    },
    "papermill": {
     "duration": 0.319915,
     "end_time": "2023-05-14T10:14:27.889273",
     "exception": false,
     "start_time": "2023-05-14T10:14:27.569358",
     "status": "completed"
    },
    "tags": []
   },
   "outputs": [
    {
     "name": "stderr",
     "output_type": "stream",
     "text": [
      "C:\\Users\\mayan\\AppData\\Local\\Temp\\ipykernel_20776\\3055341551.py:1: FutureWarning: Indexing with multiple keys (implicitly converted to a tuple of keys) will be deprecated, use a list instead.\n",
      "  train_df = train_df.groupby('date')['sales','onpromotion'].sum().reset_index()\n"
     ]
    },
    {
     "name": "stdout",
     "output_type": "stream",
     "text": [
      "           date          sales  onpromotion\n",
      "0    2013-01-01    2511.618999            0\n",
      "1    2013-01-02  496092.417944            0\n",
      "2    2013-01-03  361461.231124            0\n",
      "3    2013-01-04  354459.677093            0\n",
      "4    2013-01-05  477350.121229            0\n",
      "...         ...            ...          ...\n",
      "1679 2017-08-11  826373.722022        14179\n",
      "1680 2017-08-12  792630.535079         8312\n",
      "1681 2017-08-13  865639.677471         9283\n",
      "1682 2017-08-14  760922.406081         8043\n",
      "1683 2017-08-15  762661.935939        10605\n",
      "\n",
      "[1684 rows x 3 columns]\n"
     ]
    }
   ],
   "source": [
    "train_df = train_df.groupby('date')['sales','onpromotion'].sum().reset_index()\n",
    "print(train_df)"
   ]
  },
  {
   "cell_type": "markdown",
   "id": "a88a5125",
   "metadata": {
    "papermill": {
     "duration": 0.033533,
     "end_time": "2023-05-14T10:14:27.958215",
     "exception": false,
     "start_time": "2023-05-14T10:14:27.924682",
     "status": "completed"
    },
    "tags": []
   },
   "source": [
    "# Autocorrelation \n",
    "\n",
    "Autocorrelation measures the correlation between a time series and its lagged values. Autocorrelation plots (ACF) and partial autocorrelation plots (PACF) help identify significant lag values and potential autoregressive or moving average components.\n",
    "\n",
    "- If the autocorrelation value is close to 1 or -1, it indicates a strong positive or negative autocorrelation, respectively.\n",
    "\n",
    "- If the autocorrelation value is close to 0, it indicates a weak or no autocorrelation."
   ]
  },
  {
   "cell_type": "code",
   "execution_count": 37,
   "id": "4f40ddcd",
   "metadata": {
    "execution": {
     "iopub.execute_input": "2023-05-14T10:14:28.030038Z",
     "iopub.status.busy": "2023-05-14T10:14:28.029571Z",
     "iopub.status.idle": "2023-05-14T10:14:28.038026Z",
     "shell.execute_reply": "2023-05-14T10:14:28.036216Z"
    },
    "papermill": {
     "duration": 0.047669,
     "end_time": "2023-05-14T10:14:28.040335",
     "exception": false,
     "start_time": "2023-05-14T10:14:27.992666",
     "status": "completed"
    },
    "tags": []
   },
   "outputs": [
    {
     "name": "stdout",
     "output_type": "stream",
     "text": [
      "Autocorrelation: 0.7668836879523089\n"
     ]
    }
   ],
   "source": [
    "sales_series = train_df['sales']\n",
    "autocorr_values = sales_series.autocorr()\n",
    "print(\"Autocorrelation:\", autocorr_values)"
   ]
  },
  {
   "cell_type": "markdown",
   "id": "991d575f",
   "metadata": {
    "papermill": {
     "duration": 0.03466,
     "end_time": "2023-05-14T10:14:28.110968",
     "exception": false,
     "start_time": "2023-05-14T10:14:28.076308",
     "status": "completed"
    },
    "tags": []
   },
   "source": [
    "Based on the result above, since the autocorrelation value is close to 1 (0.766), it suggests that there is a positive autocorrelation. A positive autocorrelation indicates that there is a relationship between the current sales values and the previous sales values."
   ]
  },
  {
   "cell_type": "code",
   "execution_count": 38,
   "id": "77609907",
   "metadata": {
    "execution": {
     "iopub.execute_input": "2023-05-14T10:14:28.181842Z",
     "iopub.status.busy": "2023-05-14T10:14:28.181405Z",
     "iopub.status.idle": "2023-05-14T10:14:28.700923Z",
     "shell.execute_reply": "2023-05-14T10:14:28.699499Z"
    },
    "papermill": {
     "duration": 0.557696,
     "end_time": "2023-05-14T10:14:28.703786",
     "exception": false,
     "start_time": "2023-05-14T10:14:28.146090",
     "status": "completed"
    },
    "tags": []
   },
   "outputs": [
    {
     "data": {
      "image/png": "[encoded data removed]",
      "text/plain": [
       "<Figure size 432x288 with 1 Axes>"
      ]
     },
     "execution_count": 38,
     "metadata": {},
     "output_type": "execute_result"
    },
    {
     "data": {
      "image/png": "[encoded data removed]",
      "text/plain": [
       "<Figure size 432x288 with 1 Axes>"
      ]
     },
     "metadata": {
      "needs_background": "light"
     },
     "output_type": "display_data"
    }
   ],
   "source": [
    "plot_acf(train_df['sales'])"
   ]
  },
  {
   "cell_type": "code",
   "execution_count": 39,
   "id": "219ca22a",
   "metadata": {
    "execution": {
     "iopub.execute_input": "2023-05-14T10:14:28.778478Z",
     "iopub.status.busy": "2023-05-14T10:14:28.777673Z",
     "iopub.status.idle": "2023-05-14T10:14:29.131891Z",
     "shell.execute_reply": "2023-05-14T10:14:29.130691Z"
    },
    "papermill": {
     "duration": 0.394135,
     "end_time": "2023-05-14T10:14:29.134651",
     "exception": false,
     "start_time": "2023-05-14T10:14:28.740516",
     "status": "completed"
    },
    "tags": []
   },
   "outputs": [
    {
     "name": "stderr",
     "output_type": "stream",
     "text": [
      "C:\\Users\\mayan\\Anaconda3\\lib\\site-packages\\statsmodels\\graphics\\tsaplots.py:348: FutureWarning: The default method 'yw' can produce PACF values outside of the [-1,1] interval. After 0.13, the default will change tounadjusted Yule-Walker ('ywm'). You can use this method now by setting method='ywm'.\n",
      "  warnings.warn(\n"
     ]
    },
    {
     "data": {
      "image/png": "[encoded data removed]",
      "text/plain": [
       "<Figure size 720x432 with 1 Axes>"
      ]
     },
     "metadata": {
      "needs_background": "light"
     },
     "output_type": "display_data"
    }
   ],
   "source": [
    "# Plot the PACF\n",
    "fig, ax = plt.subplots(figsize=(10, 6))\n",
    "plot_pacf(train_df['sales'], ax=ax)\n",
    "plt.xlabel('Lag')\n",
    "plt.ylabel('Partial Autocorrelation')\n",
    "plt.title('Partial Autocorrelation Function (PACF)')\n",
    "\n",
    "plt.show()"
   ]
  },
  {
   "cell_type": "markdown",
   "id": "8bab2b8d",
   "metadata": {
    "papermill": {
     "duration": 0.036676,
     "end_time": "2023-05-14T10:14:29.208547",
     "exception": false,
     "start_time": "2023-05-14T10:14:29.171871",
     "status": "completed"
    },
    "tags": []
   },
   "source": [
    "# Differencing technique \n",
    "\n",
    "This process is meant to transform the time series data to stationary, as ARIMA model only works with stationary time series data. "
   ]
  },
  {
   "cell_type": "code",
   "execution_count": 40,
   "id": "4d855075",
   "metadata": {
    "execution": {
     "iopub.execute_input": "2023-05-14T10:14:29.285109Z",
     "iopub.status.busy": "2023-05-14T10:14:29.284573Z",
     "iopub.status.idle": "2023-05-14T10:14:29.291233Z",
     "shell.execute_reply": "2023-05-14T10:14:29.290253Z"
    },
    "papermill": {
     "duration": 0.047107,
     "end_time": "2023-05-14T10:14:29.293619",
     "exception": false,
     "start_time": "2023-05-14T10:14:29.246512",
     "status": "completed"
    },
    "tags": []
   },
   "outputs": [],
   "source": [
    "train_df['diff_sales'] = train_df['sales'].diff()"
   ]
  },
  {
   "cell_type": "code",
   "execution_count": 41,
   "id": "a3106367",
   "metadata": {
    "execution": {
     "iopub.execute_input": "2023-05-14T10:14:29.369978Z",
     "iopub.status.busy": "2023-05-14T10:14:29.368898Z",
     "iopub.status.idle": "2023-05-14T10:14:29.377177Z",
     "shell.execute_reply": "2023-05-14T10:14:29.376183Z"
    },
    "papermill": {
     "duration": 0.049188,
     "end_time": "2023-05-14T10:14:29.379805",
     "exception": false,
     "start_time": "2023-05-14T10:14:29.330617",
     "status": "completed"
    },
    "tags": []
   },
   "outputs": [],
   "source": [
    "train_df = train_df.dropna()"
   ]
  },
  {
   "cell_type": "code",
   "execution_count": 42,
   "id": "36f4f414",
   "metadata": {
    "execution": {
     "iopub.execute_input": "2023-05-14T10:14:29.455768Z",
     "iopub.status.busy": "2023-05-14T10:14:29.454634Z",
     "iopub.status.idle": "2023-05-14T10:14:29.462212Z",
     "shell.execute_reply": "2023-05-14T10:14:29.461237Z"
    },
    "papermill": {
     "duration": 0.048623,
     "end_time": "2023-05-14T10:14:29.464601",
     "exception": false,
     "start_time": "2023-05-14T10:14:29.415978",
     "status": "completed"
    },
    "tags": []
   },
   "outputs": [
    {
     "name": "stdout",
     "output_type": "stream",
     "text": [
      "1       493580.798945\n",
      "2      -134631.186820\n",
      "3        -7001.554031\n",
      "4       122890.444136\n",
      "5        42345.279859\n",
      "            ...      \n",
      "1679    174986.810052\n",
      "1680    -33743.186943\n",
      "1681     73009.142392\n",
      "1682   -104717.271390\n",
      "1683      1739.529858\n",
      "Name: diff_sales, Length: 1683, dtype: float64\n"
     ]
    }
   ],
   "source": [
    "print(train_df['diff_sales'])"
   ]
  },
  {
   "cell_type": "code",
   "execution_count": 43,
   "id": "243de31f",
   "metadata": {
    "execution": {
     "iopub.execute_input": "2023-05-14T10:14:29.541964Z",
     "iopub.status.busy": "2023-05-14T10:14:29.540992Z",
     "iopub.status.idle": "2023-05-14T10:14:29.547658Z",
     "shell.execute_reply": "2023-05-14T10:14:29.546696Z"
    },
    "papermill": {
     "duration": 0.047572,
     "end_time": "2023-05-14T10:14:29.550113",
     "exception": false,
     "start_time": "2023-05-14T10:14:29.502541",
     "status": "completed"
    },
    "tags": []
   },
   "outputs": [],
   "source": [
    "train_df['diff_sales'] = train_df['sales'] - train_df['sales'].shift(1)"
   ]
  },
  {
   "cell_type": "code",
   "execution_count": 44,
   "id": "618ad8a1",
   "metadata": {
    "execution": {
     "iopub.execute_input": "2023-05-14T10:14:29.625980Z",
     "iopub.status.busy": "2023-05-14T10:14:29.625285Z",
     "iopub.status.idle": "2023-05-14T10:14:29.631517Z",
     "shell.execute_reply": "2023-05-14T10:14:29.630489Z"
    },
    "papermill": {
     "duration": 0.047199,
     "end_time": "2023-05-14T10:14:29.634117",
     "exception": false,
     "start_time": "2023-05-14T10:14:29.586918",
     "status": "completed"
    },
    "tags": []
   },
   "outputs": [],
   "source": [
    "# Drop the first row since differencing introduces a NaN value\n",
    "train_df = train_df.dropna()"
   ]
  },
  {
   "cell_type": "code",
   "execution_count": 45,
   "id": "1ae0e0a1",
   "metadata": {
    "execution": {
     "iopub.execute_input": "2023-05-14T10:14:29.710988Z",
     "iopub.status.busy": "2023-05-14T10:14:29.710120Z",
     "iopub.status.idle": "2023-05-14T10:14:29.719774Z",
     "shell.execute_reply": "2023-05-14T10:14:29.718013Z"
    },
    "papermill": {
     "duration": 0.051813,
     "end_time": "2023-05-14T10:14:29.722583",
     "exception": false,
     "start_time": "2023-05-14T10:14:29.670770",
     "status": "completed"
    },
    "tags": []
   },
   "outputs": [
    {
     "name": "stdout",
     "output_type": "stream",
     "text": [
      "2      -134631.186820\n",
      "3        -7001.554031\n",
      "4       122890.444136\n",
      "5        42345.279859\n",
      "6      -183572.600022\n",
      "            ...      \n",
      "1679    174986.810052\n",
      "1680    -33743.186943\n",
      "1681     73009.142392\n",
      "1682   -104717.271390\n",
      "1683      1739.529858\n",
      "Name: diff_sales, Length: 1682, dtype: float64\n"
     ]
    }
   ],
   "source": [
    "print(train_df['diff_sales'])"
   ]
  },
  {
   "cell_type": "code",
   "execution_count": 46,
   "id": "73db612d",
   "metadata": {
    "execution": {
     "iopub.execute_input": "2023-05-14T10:14:29.803197Z",
     "iopub.status.busy": "2023-05-14T10:14:29.801929Z",
     "iopub.status.idle": "2023-05-14T10:14:29.816859Z",
     "shell.execute_reply": "2023-05-14T10:14:29.814879Z"
    },
    "papermill": {
     "duration": 0.05773,
     "end_time": "2023-05-14T10:14:29.819542",
     "exception": false,
     "start_time": "2023-05-14T10:14:29.761812",
     "status": "completed"
    },
    "tags": []
   },
   "outputs": [
    {
     "data": {
      "text/html": [
       "<div>\n",
       "<style scoped>\n",
       "    .dataframe tbody tr th:only-of-type {\n",
       "        vertical-align: middle;\n",
       "    }\n",
       "\n",
       "    .dataframe tbody tr th {\n",
       "        vertical-align: top;\n",
       "    }\n",
       "\n",
       "    .dataframe thead th {\n",
       "        text-align: right;\n",
       "    }\n",
       "</style>\n",
       "<table border=\"1\" class=\"dataframe\">\n",
       "  <thead>\n",
       "    <tr style=\"text-align: right;\">\n",
       "      <th></th>\n",
       "      <th>date</th>\n",
       "      <th>sales</th>\n",
       "      <th>onpromotion</th>\n",
       "      <th>diff_sales</th>\n",
       "    </tr>\n",
       "  </thead>\n",
       "  <tbody>\n",
       "    <tr>\n",
       "      <th>2</th>\n",
       "      <td>2013-01-03</td>\n",
       "      <td>361461.231124</td>\n",
       "      <td>0</td>\n",
       "      <td>-134631.186820</td>\n",
       "    </tr>\n",
       "    <tr>\n",
       "      <th>3</th>\n",
       "      <td>2013-01-04</td>\n",
       "      <td>354459.677093</td>\n",
       "      <td>0</td>\n",
       "      <td>-7001.554031</td>\n",
       "    </tr>\n",
       "    <tr>\n",
       "      <th>4</th>\n",
       "      <td>2013-01-05</td>\n",
       "      <td>477350.121229</td>\n",
       "      <td>0</td>\n",
       "      <td>122890.444136</td>\n",
       "    </tr>\n",
       "    <tr>\n",
       "      <th>5</th>\n",
       "      <td>2013-01-06</td>\n",
       "      <td>519695.401088</td>\n",
       "      <td>0</td>\n",
       "      <td>42345.279859</td>\n",
       "    </tr>\n",
       "    <tr>\n",
       "      <th>6</th>\n",
       "      <td>2013-01-07</td>\n",
       "      <td>336122.801066</td>\n",
       "      <td>0</td>\n",
       "      <td>-183572.600022</td>\n",
       "    </tr>\n",
       "  </tbody>\n",
       "</table>\n",
       "</div>"
      ],
      "text/plain": [
       "        date          sales  onpromotion     diff_sales\n",
       "2 2013-01-03  361461.231124            0 -134631.186820\n",
       "3 2013-01-04  354459.677093            0   -7001.554031\n",
       "4 2013-01-05  477350.121229            0  122890.444136\n",
       "5 2013-01-06  519695.401088            0   42345.279859\n",
       "6 2013-01-07  336122.801066            0 -183572.600022"
      ]
     },
     "execution_count": 46,
     "metadata": {},
     "output_type": "execute_result"
    }
   ],
   "source": [
    "train_df.head()"
   ]
  },
  {
   "cell_type": "code",
   "execution_count": 47,
   "id": "fe49e389",
   "metadata": {
    "execution": {
     "iopub.execute_input": "2023-05-14T10:14:29.897213Z",
     "iopub.status.busy": "2023-05-14T10:14:29.896106Z",
     "iopub.status.idle": "2023-05-14T10:14:30.219025Z",
     "shell.execute_reply": "2023-05-14T10:14:30.217601Z"
    },
    "papermill": {
     "duration": 0.365067,
     "end_time": "2023-05-14T10:14:30.221890",
     "exception": false,
     "start_time": "2023-05-14T10:14:29.856823",
     "status": "completed"
    },
    "tags": []
   },
   "outputs": [
    {
     "data": {
      "image/png": "[encoded data removed]",
      "text/plain": [
       "<Figure size 720x432 with 1 Axes>"
      ]
     },
     "metadata": {
      "needs_background": "light"
     },
     "output_type": "display_data"
    }
   ],
   "source": [
    "# Compute the autocorrelation\n",
    "autocorrelation = sm.tsa.acf(train_df['diff_sales'], nlags=20)\n",
    "\n",
    "# Plot the autocorrelation chart\n",
    "plt.figure(figsize=(10, 6))\n",
    "plt.stem(range(len(autocorrelation)), autocorrelation, use_line_collection=True)\n",
    "plt.xlabel('Lag')\n",
    "plt.ylabel('Autocorrelation')\n",
    "plt.title('Autocorrelation Chart')\n",
    "plt.show()"
   ]
  },
  {
   "cell_type": "markdown",
   "id": "5e956725",
   "metadata": {
    "papermill": {
     "duration": 0.039965,
     "end_time": "2023-05-14T10:14:30.301621",
     "exception": false,
     "start_time": "2023-05-14T10:14:30.261656",
     "status": "completed"
    },
    "tags": []
   },
   "source": [
    "# Stationarity Test \n"
   ]
  },
  {
   "cell_type": "markdown",
   "id": "b1953bb1",
   "metadata": {
    "papermill": {
     "duration": 0.036751,
     "end_time": "2023-05-14T10:14:30.376333",
     "exception": false,
     "start_time": "2023-05-14T10:14:30.339582",
     "status": "completed"
    },
    "tags": []
   },
   "source": [
    "There are various statistical tests to check stationarity, including the Augmented Dickey-Fuller (ADF) test and the Kwiatkowski-Phillips-Schmidt-Shin (KPSS) test."
   ]
  },
  {
   "cell_type": "markdown",
   "id": "69c3b176",
   "metadata": {
    "papermill": {
     "duration": 0.036396,
     "end_time": "2023-05-14T10:14:30.450789",
     "exception": false,
     "start_time": "2023-05-14T10:14:30.414393",
     "status": "completed"
    },
    "tags": []
   },
   "source": [
    "### Augmented Dickey-Fuller (ADF)  test \n",
    "\n",
    "The Augmented Dickey-Fuller (ADF) test is a statistical test used to determine whether a time series is stationary or non-stationary. Stationarity is an important assumption in many time series analysis models.\n",
    "\n",
    "The ADF test evaluates the null hypothesis that the time series has a unit root, indicating non-stationarity. The alternative hypothesis is that the time series is stationary.\n",
    "\n",
    "When performing the ADF test, we obtain the ADF statistic and the p-value. The ADF statistic is a negative number and the more negative it is, the stronger the evidence against the null hypothesis. The p-value represents the probability of observing the ADF statistic or a more extreme value if the null hypothesis were true. A low p-value (below a chosen significance level, typically 0.05) indicates strong evidence against the null hypothesis and suggests that the time series is stationary."
   ]
  },
  {
   "cell_type": "code",
   "execution_count": 48,
   "id": "ee814608",
   "metadata": {
    "execution": {
     "iopub.execute_input": "2023-05-14T10:14:30.527996Z",
     "iopub.status.busy": "2023-05-14T10:14:30.527328Z",
     "iopub.status.idle": "2023-05-14T10:14:30.532495Z",
     "shell.execute_reply": "2023-05-14T10:14:30.531617Z"
    },
    "papermill": {
     "duration": 0.046615,
     "end_time": "2023-05-14T10:14:30.534929",
     "exception": false,
     "start_time": "2023-05-14T10:14:30.488314",
     "status": "completed"
    },
    "tags": []
   },
   "outputs": [],
   "source": [
    "ts = train_df['diff_sales']"
   ]
  },
  {
   "cell_type": "code",
   "execution_count": 49,
   "id": "f0427703",
   "metadata": {
    "execution": {
     "iopub.execute_input": "2023-05-14T10:14:30.612005Z",
     "iopub.status.busy": "2023-05-14T10:14:30.611370Z",
     "iopub.status.idle": "2023-05-14T10:14:30.718502Z",
     "shell.execute_reply": "2023-05-14T10:14:30.716882Z"
    },
    "papermill": {
     "duration": 0.152477,
     "end_time": "2023-05-14T10:14:30.724988",
     "exception": false,
     "start_time": "2023-05-14T10:14:30.572511",
     "status": "completed"
    },
    "tags": []
   },
   "outputs": [
    {
     "name": "stdout",
     "output_type": "stream",
     "text": [
      "ADF Statistic: -11.494679187188867\n",
      "p-value: 4.645171054100296e-21\n"
     ]
    }
   ],
   "source": [
    "# Perform the ADF test\n",
    "result = adfuller(ts)\n",
    "\n",
    "# Extract and print the test statistics and p-value\n",
    "adf_statistic = result[0]\n",
    "p_value = result[1]\n",
    "print(\"ADF Statistic:\", adf_statistic)\n",
    "print(\"p-value:\", p_value)"
   ]
  },
  {
   "cell_type": "markdown",
   "id": "d872a68c",
   "metadata": {
    "papermill": {
     "duration": 0.052555,
     "end_time": "2023-05-14T10:14:30.857591",
     "exception": false,
     "start_time": "2023-05-14T10:14:30.805036",
     "status": "completed"
    },
    "tags": []
   },
   "source": [
    "The ADF statistic is -11.494679187188824. This statistic is a negative value and is more negative than the critical values at common significance levels. This suggests strong evidence against the null hypothesis of a unit root, indicating that the time series is stationary.\n",
    "\n",
    "The p-value is 4.645171054101398e-21, which is a very small value close to zero. Typically, if the p-value is below a chosen significance level (e.g., 0.05), it indicates strong evidence to reject the null hypothesis. In your case, the extremely small p-value suggests strong evidence against the presence of a unit root and supports the stationarity of the time series."
   ]
  },
  {
   "cell_type": "markdown",
   "id": "4169d27c",
   "metadata": {
    "papermill": {
     "duration": 0.038069,
     "end_time": "2023-05-14T10:14:30.935675",
     "exception": false,
     "start_time": "2023-05-14T10:14:30.897606",
     "status": "completed"
    },
    "tags": []
   },
   "source": [
    "### Kwiatkowski-Phillips-Schmidt-Shin (KPSS)\n",
    "\n",
    "The Kwiatkowski-Phillips-Schmidt-Shin (KPSS) test is another statistical test used to assess the stationarity of a time series. It is complementary to the Augmented Dickey-Fuller (ADF) test.\n",
    "\n",
    "The KPSS test evaluates the null hypothesis that the time series is stationary against the alternative hypothesis of non-stationarity. Unlike the ADF test, which assumes the presence of a unit root, the KPSS test assumes the absence of a unit root.\n",
    "\n",
    "The test calculates the KPSS statistic, which measures the cumulative sum of squared deviations from the mean in the series. It also provides a p-value that indicates the probability of observing the KPSS statistic or a more extreme value under the null hypothesis.\n",
    "\n",
    "Interpreting the results of the KPSS test involves considering the KPSS statistic and the associated p-value. If the KPSS statistic is greater than the critical value at a chosen significance level (e.g., 0.05), it provides evidence against the null hypothesis of stationarity. Conversely, if the KPSS statistic is smaller than the critical value, it suggests that the time series is stationary."
   ]
  },
  {
   "cell_type": "code",
   "execution_count": 50,
   "id": "b7caf7fc",
   "metadata": {
    "execution": {
     "iopub.execute_input": "2023-05-14T10:14:31.014218Z",
     "iopub.status.busy": "2023-05-14T10:14:31.013799Z",
     "iopub.status.idle": "2023-05-14T10:14:31.023845Z",
     "shell.execute_reply": "2023-05-14T10:14:31.021794Z"
    },
    "papermill": {
     "duration": 0.054224,
     "end_time": "2023-05-14T10:14:31.027266",
     "exception": false,
     "start_time": "2023-05-14T10:14:30.973042",
     "status": "completed"
    },
    "tags": []
   },
   "outputs": [
    {
     "name": "stdout",
     "output_type": "stream",
     "text": [
      "KPSS Statistic: 0.026854877460034746\n",
      "p-value: 0.1\n"
     ]
    },
    {
     "name": "stderr",
     "output_type": "stream",
     "text": [
      "C:\\Users\\mayan\\Anaconda3\\lib\\site-packages\\statsmodels\\tsa\\stattools.py:2022: InterpolationWarning: The test statistic is outside of the range of p-values available in the\n",
      "look-up table. The actual p-value is greater than the p-value returned.\n",
      "\n",
      "  warnings.warn(\n"
     ]
    }
   ],
   "source": [
    "result = kpss(ts)\n",
    "\n",
    "# Extract and print the test statistic and p-value\n",
    "kpss_statistic = result[0]\n",
    "p_value = result[1]\n",
    "print(\"KPSS Statistic:\", kpss_statistic)\n",
    "print(\"p-value:\", p_value)"
   ]
  },
  {
   "cell_type": "markdown",
   "id": "d11d92f8",
   "metadata": {
    "papermill": {
     "duration": 0.039967,
     "end_time": "2023-05-14T10:14:31.106601",
     "exception": false,
     "start_time": "2023-05-14T10:14:31.066634",
     "status": "completed"
    },
    "tags": []
   },
   "source": [
    "The KPSS statistic is 0.02685487746003539. This statistic measures the discrepancy between the observed series and the series' trend. It indicates how far the series deviates from stationarity. A smaller KPSS statistic suggests a closer fit to stationarity.\n",
    "\n",
    "The p-value is 0.1, which is equal to the chosen significance level of 0.1. Typically, if the p-value is greater than the significance level, it suggests that there is insufficient evidence to reject the null hypothesis of stationarity. Based on the result, the p-value is equal to the significance level, indicating that the results are inconclusive."
   ]
  },
  {
   "cell_type": "markdown",
   "id": "0f3a0115",
   "metadata": {
    "papermill": {
     "duration": 0.039791,
     "end_time": "2023-05-14T10:14:31.185534",
     "exception": false,
     "start_time": "2023-05-14T10:14:31.145743",
     "status": "completed"
    },
    "tags": []
   },
   "source": [
    "# Final ACF & PACF "
   ]
  },
  {
   "cell_type": "code",
   "execution_count": 62,
   "id": "3bbe0d4d",
   "metadata": {
    "execution": {
     "iopub.execute_input": "2023-05-14T10:14:31.267726Z",
     "iopub.status.busy": "2023-05-14T10:14:31.267273Z",
     "iopub.status.idle": "2023-05-14T10:14:31.908005Z",
     "shell.execute_reply": "2023-05-14T10:14:31.906620Z"
    },
    "papermill": {
     "duration": 0.686398,
     "end_time": "2023-05-14T10:14:31.910760",
     "exception": false,
     "start_time": "2023-05-14T10:14:31.224362",
     "status": "completed"
    },
    "tags": []
   },
   "outputs": [
    {
     "name": "stderr",
     "output_type": "stream",
     "text": [
      "C:\\Users\\mayan\\Anaconda3\\lib\\site-packages\\statsmodels\\graphics\\tsaplots.py:348: FutureWarning: The default method 'yw' can produce PACF values outside of the [-1,1] interval. After 0.13, the default will change tounadjusted Yule-Walker ('ywm'). You can use this method now by setting method='ywm'.\n",
      "  warnings.warn(\n"
     ]
    },
    {
     "data": {
      "image/png": "[encoded data removed]",
      "text/plain": [
       "<Figure size 720x288 with 2 Axes>"
      ]
     },
     "metadata": {
      "needs_background": "light"
     },
     "output_type": "display_data"
    }
   ],
   "source": [
    "# Plot the Autocorrelation Function (ACF)\n",
    "plt.figure(figsize=(10, 4))\n",
    "ax1 = plt.subplot(121)\n",
    "plot_acf(train_df['diff_sales'], ax=ax1)\n",
    "\n",
    "# Plot the Partial Autocorrelation Function (PACF)\n",
    "ax2 = plt.subplot(122)\n",
    "plot_pacf(train_df['diff_sales'], ax=ax2)\n",
    "\n",
    "plt.tight_layout()\n",
    "plt.show()"
   ]
  },
  {
   "cell_type": "markdown",
   "id": "32774544",
   "metadata": {
    "papermill": {
     "duration": 0.038585,
     "end_time": "2023-05-14T10:14:31.988712",
     "exception": false,
     "start_time": "2023-05-14T10:14:31.950127",
     "status": "completed"
    },
    "tags": []
   },
   "source": [
    "# Autoregressive Integrated Moving Average Model (ARIMA) model"
   ]
  },
  {
   "cell_type": "code",
   "execution_count": 60,
   "id": "964fb42f",
   "metadata": {
    "execution": {
     "iopub.execute_input": "2023-05-14T10:14:32.164176Z",
     "iopub.status.busy": "2023-05-14T10:14:32.163682Z",
     "iopub.status.idle": "2023-05-14T10:14:32.723668Z",
     "shell.execute_reply": "2023-05-14T10:14:32.722613Z"
    },
    "papermill": {
     "duration": 0.605112,
     "end_time": "2023-05-14T10:14:32.728421",
     "exception": false,
     "start_time": "2023-05-14T10:14:32.123309",
     "status": "completed"
    },
    "tags": []
   },
   "outputs": [
    {
     "name": "stderr",
     "output_type": "stream",
     "text": [
      "C:\\Users\\mayan\\Anaconda3\\lib\\site-packages\\statsmodels\\tsa\\statespace\\sarimax.py:978: UserWarning: Non-invertible starting MA parameters found. Using zeros as starting parameters.\n",
      "  warn('Non-invertible starting MA parameters found.'\n",
      "C:\\Users\\mayan\\Anaconda3\\lib\\site-packages\\statsmodels\\base\\model.py:604: ConvergenceWarning: Maximum Likelihood optimization failed to converge. Check mle_retvals\n",
      "  warnings.warn(\"Maximum Likelihood optimization failed to \"\n"
     ]
    }
   ],
   "source": [
    "train_np = train_df['diff_sales'].values.astype('float64')\n",
    "model = sm.tsa.ARIMA(train_np, order=(p, d, q))\n",
    "\n",
    "result = model.fit()"
   ]
  },
  {
   "cell_type": "code",
   "execution_count": 61,
   "id": "cb6409f2",
   "metadata": {
    "execution": {
     "iopub.execute_input": "2023-05-14T10:14:32.819623Z",
     "iopub.status.busy": "2023-05-14T10:14:32.818418Z",
     "iopub.status.idle": "2023-05-14T10:14:32.842086Z",
     "shell.execute_reply": "2023-05-14T10:14:32.841125Z"
    },
    "papermill": {
     "duration": 0.070636,
     "end_time": "2023-05-14T10:14:32.844596",
     "exception": false,
     "start_time": "2023-05-14T10:14:32.773960",
     "status": "completed"
    },
    "tags": []
   },
   "outputs": [
    {
     "name": "stdout",
     "output_type": "stream",
     "text": [
      "                               SARIMAX Results                                \n",
      "==============================================================================\n",
      "Dep. Variable:                      y   No. Observations:                 1682\n",
      "Model:                 ARIMA(4, 1, 5)   Log Likelihood              -22280.314\n",
      "Date:                Mon, 22 May 2023   AIC                          44580.629\n",
      "Time:                        13:01:30   BIC                          44634.900\n",
      "Sample:                             0   HQIC                         44600.731\n",
      "                               - 1682                                         \n",
      "Covariance Type:                  opg                                         \n",
      "==============================================================================\n",
      "                 coef    std err          z      P>|z|      [0.025      0.975]\n",
      "------------------------------------------------------------------------------\n",
      "ar.L1         -1.9705      0.181    -10.904      0.000      -2.325      -1.616\n",
      "ar.L2         -2.3695      0.255     -9.274      0.000      -2.870      -1.869\n",
      "ar.L3         -1.8231      0.257     -7.085      0.000      -2.327      -1.319\n",
      "ar.L4         -0.6836      0.176     -3.883      0.000      -1.029      -0.339\n",
      "ma.L1          0.9675      0.181      5.360      0.000       0.614       1.321\n",
      "ma.L2          0.3209      0.099      3.252      0.001       0.128       0.514\n",
      "ma.L3         -0.5810      0.050    -11.628      0.000      -0.679      -0.483\n",
      "ma.L4         -1.1007      0.112     -9.800      0.000      -1.321      -0.881\n",
      "ma.L5         -0.6053      0.179     -3.386      0.001      -0.956      -0.255\n",
      "sigma2      2.008e+10   2.19e-11   9.16e+20      0.000    2.01e+10    2.01e+10\n",
      "===================================================================================\n",
      "Ljung-Box (L1) (Q):                   0.01   Jarque-Bera (JB):             13078.96\n",
      "Prob(Q):                              0.92   Prob(JB):                         0.00\n",
      "Heteroskedasticity (H):               3.06   Skew:                             0.35\n",
      "Prob(H) (two-sided):                  0.00   Kurtosis:                        16.65\n",
      "===================================================================================\n",
      "\n",
      "Warnings:\n",
      "[1] Covariance matrix calculated using the outer product of gradients (complex-step).\n",
      "[2] Covariance matrix is singular or near-singular, with condition number 5.56e+36. Standard errors may be unstable.\n"
     ]
    }
   ],
   "source": [
    "# Print the model summary\n",
    "print(result.summary())"
   ]
  },
  {
   "cell_type": "code",
   "execution_count": 58,
   "id": "9e47b1ca",
   "metadata": {
    "execution": {
     "iopub.execute_input": "2023-05-14T10:14:32.073617Z",
     "iopub.status.busy": "2023-05-14T10:14:32.073143Z",
     "iopub.status.idle": "2023-05-14T10:14:32.079453Z",
     "shell.execute_reply": "2023-05-14T10:14:32.078143Z"
    },
    "papermill": {
     "duration": 0.051965,
     "end_time": "2023-05-14T10:14:32.082277",
     "exception": false,
     "start_time": "2023-05-14T10:14:32.030312",
     "status": "completed"
    },
    "tags": []
   },
   "outputs": [],
   "source": [
    "p = 4\n",
    "\n",
    "d = 1\n",
    "\n",
    "q = 5"
   ]
  },
  {
   "cell_type": "code",
   "execution_count": 56,
   "id": "1c6fd0b6",
   "metadata": {},
   "outputs": [
    {
     "name": "stdout",
     "output_type": "stream",
     "text": [
      "Requirement already satisfied: pmdarima in c:\\users\\mayan\\anaconda3\\lib\\site-packages (2.0.3)\n",
      "Requirement already satisfied: statsmodels>=0.13.2 in c:\\users\\mayan\\anaconda3\\lib\\site-packages (from pmdarima) (0.13.2)\n",
      "Requirement already satisfied: urllib3 in c:\\users\\mayan\\anaconda3\\lib\\site-packages (from pmdarima) (1.26.9)\n",
      "Requirement already satisfied: scipy>=1.3.2 in c:\\users\\mayan\\anaconda3\\lib\\site-packages (from pmdarima) (1.7.3)\n",
      "Requirement already satisfied: pandas>=0.19 in c:\\users\\mayan\\anaconda3\\lib\\site-packages (from pmdarima) (1.4.2)\n",
      "Requirement already satisfied: joblib>=0.11 in c:\\users\\mayan\\anaconda3\\lib\\site-packages (from pmdarima) (1.1.0)\n",
      "Requirement already satisfied: Cython!=0.29.18,!=0.29.31,>=0.29 in c:\\users\\mayan\\anaconda3\\lib\\site-packages (from pmdarima) (0.29.28)\n",
      "Requirement already satisfied: setuptools!=50.0.0,>=38.6.0 in c:\\users\\mayan\\anaconda3\\lib\\site-packages (from pmdarima) (61.2.0)\n",
      "Requirement already satisfied: scikit-learn>=0.22 in c:\\users\\mayan\\anaconda3\\lib\\site-packages (from pmdarima) (1.0.2)\n",
      "Requirement already satisfied: numpy>=1.21.2 in c:\\users\\mayan\\anaconda3\\lib\\site-packages (from pmdarima) (1.21.5)\n",
      "Requirement already satisfied: python-dateutil>=2.8.1 in c:\\users\\mayan\\anaconda3\\lib\\site-packages (from pandas>=0.19->pmdarima) (2.8.2)\n",
      "Requirement already satisfied: pytz>=2020.1 in c:\\users\\mayan\\anaconda3\\lib\\site-packages (from pandas>=0.19->pmdarima) (2021.3)\n",
      "Requirement already satisfied: six>=1.5 in c:\\users\\mayan\\anaconda3\\lib\\site-packages (from python-dateutil>=2.8.1->pandas>=0.19->pmdarima) (1.16.0)\n",
      "Requirement already satisfied: threadpoolctl>=2.0.0 in c:\\users\\mayan\\anaconda3\\lib\\site-packages (from scikit-learn>=0.22->pmdarima) (2.2.0)\n",
      "Requirement already satisfied: patsy>=0.5.2 in c:\\users\\mayan\\anaconda3\\lib\\site-packages (from statsmodels>=0.13.2->pmdarima) (0.5.2)\n",
      "Requirement already satisfied: packaging>=21.3 in c:\\users\\mayan\\anaconda3\\lib\\site-packages (from statsmodels>=0.13.2->pmdarima) (21.3)\n",
      "Requirement already satisfied: pyparsing!=3.0.5,>=2.0.2 in c:\\users\\mayan\\anaconda3\\lib\\site-packages (from packaging>=21.3->statsmodels>=0.13.2->pmdarima) (3.0.4)\n",
      "Performing stepwise search to minimize aic\n",
      " ARIMA(2,1,2)(0,0,0)[0] intercept   : AIC=44414.019, Time=2.27 sec\n",
      " ARIMA(0,1,0)(0,0,0)[0] intercept   : AIC=45050.249, Time=0.16 sec\n",
      " ARIMA(1,1,0)(0,0,0)[0] intercept   : AIC=45045.910, Time=0.30 sec\n",
      " ARIMA(0,1,1)(0,0,0)[0] intercept   : AIC=44880.548, Time=0.78 sec\n",
      " ARIMA(0,1,0)(0,0,0)[0]             : AIC=45048.253, Time=0.12 sec\n",
      " ARIMA(1,1,2)(0,0,0)[0] intercept   : AIC=44425.198, Time=1.39 sec\n",
      " ARIMA(2,1,1)(0,0,0)[0] intercept   : AIC=44429.578, Time=1.61 sec\n",
      " ARIMA(3,1,2)(0,0,0)[0] intercept   : AIC=44429.019, Time=3.10 sec\n",
      " ARIMA(2,1,3)(0,0,0)[0] intercept   : AIC=44367.293, Time=3.15 sec\n",
      " ARIMA(1,1,3)(0,0,0)[0] intercept   : AIC=44446.528, Time=2.76 sec\n",
      " ARIMA(3,1,3)(0,0,0)[0] intercept   : AIC=inf, Time=10.35 sec\n",
      " ARIMA(2,1,4)(0,0,0)[0] intercept   : AIC=44031.690, Time=11.16 sec\n",
      " ARIMA(1,1,4)(0,0,0)[0] intercept   : AIC=44420.793, Time=2.59 sec\n",
      " ARIMA(3,1,4)(0,0,0)[0] intercept   : AIC=44158.536, Time=10.66 sec\n",
      " ARIMA(2,1,5)(0,0,0)[0] intercept   : AIC=43960.049, Time=10.72 sec\n",
      " ARIMA(1,1,5)(0,0,0)[0] intercept   : AIC=44406.271, Time=5.48 sec\n",
      " ARIMA(3,1,5)(0,0,0)[0] intercept   : AIC=43958.108, Time=12.34 sec\n",
      " ARIMA(4,1,5)(0,0,0)[0] intercept   : AIC=43565.434, Time=11.74 sec\n",
      " ARIMA(4,1,4)(0,0,0)[0] intercept   : AIC=43795.933, Time=8.06 sec\n",
      " ARIMA(4,1,5)(0,0,0)[0]             : AIC=43563.438, Time=10.61 sec\n",
      " ARIMA(3,1,5)(0,0,0)[0]             : AIC=43960.014, Time=12.26 sec\n",
      " ARIMA(4,1,4)(0,0,0)[0]             : AIC=43793.973, Time=7.42 sec\n",
      " ARIMA(3,1,4)(0,0,0)[0]             : AIC=44157.093, Time=10.09 sec\n",
      "\n",
      "Best model:  ARIMA(4,1,5)(0,0,0)[0]          \n",
      "Total fit time: 139.215 seconds\n"
     ]
    }
   ],
   "source": [
    "!pip install pmdarima\n",
    "from pmdarima import auto_arima\n",
    "stepwise_fit = auto_arima(train_df['sales'], trace=True,max_p=4,\n",
    "suppress_warnings=True)"
   ]
  },
  {
   "cell_type": "code",
   "execution_count": 57,
   "id": "ba532b40",
   "metadata": {},
   "outputs": [
    {
     "data": {
      "text/html": [
       "<table class=\"simpletable\">\n",
       "<caption>SARIMAX Results</caption>\n",
       "<tr>\n",
       "  <th>Dep. Variable:</th>           <td>y</td>        <th>  No. Observations:  </th>    <td>1682</td>   \n",
       "</tr>\n",
       "<tr>\n",
       "  <th>Model:</th>           <td>SARIMAX(4, 1, 5)</td> <th>  Log Likelihood     </th> <td>-21771.719</td>\n",
       "</tr>\n",
       "<tr>\n",
       "  <th>Date:</th>            <td>Mon, 22 May 2023</td> <th>  AIC                </th>  <td>43563.438</td>\n",
       "</tr>\n",
       "<tr>\n",
       "  <th>Time:</th>                <td>13:00:11</td>     <th>  BIC                </th>  <td>43617.709</td>\n",
       "</tr>\n",
       "<tr>\n",
       "  <th>Sample:</th>                  <td>0</td>        <th>  HQIC               </th>  <td>43583.541</td>\n",
       "</tr>\n",
       "<tr>\n",
       "  <th></th>                      <td> - 1682</td>     <th>                     </th>      <td> </td>    \n",
       "</tr>\n",
       "<tr>\n",
       "  <th>Covariance Type:</th>        <td>opg</td>       <th>                     </th>      <td> </td>    \n",
       "</tr>\n",
       "</table>\n",
       "<table class=\"simpletable\">\n",
       "<tr>\n",
       "     <td></td>       <th>coef</th>     <th>std err</th>      <th>z</th>      <th>P>|z|</th>  <th>[0.025</th>    <th>0.975]</th>  \n",
       "</tr>\n",
       "<tr>\n",
       "  <th>ar.L1</th>  <td>    0.7912</td> <td>    0.006</td> <td>  136.029</td> <td> 0.000</td> <td>    0.780</td> <td>    0.803</td>\n",
       "</tr>\n",
       "<tr>\n",
       "  <th>ar.L2</th>  <td>   -1.4262</td> <td>    0.008</td> <td> -178.303</td> <td> 0.000</td> <td>   -1.442</td> <td>   -1.411</td>\n",
       "</tr>\n",
       "<tr>\n",
       "  <th>ar.L3</th>  <td>    0.7797</td> <td>    0.008</td> <td>   98.446</td> <td> 0.000</td> <td>    0.764</td> <td>    0.795</td>\n",
       "</tr>\n",
       "<tr>\n",
       "  <th>ar.L4</th>  <td>   -0.9860</td> <td>    0.005</td> <td> -189.532</td> <td> 0.000</td> <td>   -0.996</td> <td>   -0.976</td>\n",
       "</tr>\n",
       "<tr>\n",
       "  <th>ma.L1</th>  <td>   -1.3706</td> <td>    0.012</td> <td> -110.471</td> <td> 0.000</td> <td>   -1.395</td> <td>   -1.346</td>\n",
       "</tr>\n",
       "<tr>\n",
       "  <th>ma.L2</th>  <td>    1.7391</td> <td>    0.019</td> <td>   92.697</td> <td> 0.000</td> <td>    1.702</td> <td>    1.776</td>\n",
       "</tr>\n",
       "<tr>\n",
       "  <th>ma.L3</th>  <td>   -1.4861</td> <td>    0.028</td> <td>  -52.856</td> <td> 0.000</td> <td>   -1.541</td> <td>   -1.431</td>\n",
       "</tr>\n",
       "<tr>\n",
       "  <th>ma.L4</th>  <td>    1.2712</td> <td>    0.024</td> <td>   52.739</td> <td> 0.000</td> <td>    1.224</td> <td>    1.318</td>\n",
       "</tr>\n",
       "<tr>\n",
       "  <th>ma.L5</th>  <td>   -0.5671</td> <td>    0.017</td> <td>  -32.542</td> <td> 0.000</td> <td>   -0.601</td> <td>   -0.533</td>\n",
       "</tr>\n",
       "<tr>\n",
       "  <th>sigma2</th> <td> 1.407e+10</td> <td> 2.39e-13</td> <td> 5.88e+22</td> <td> 0.000</td> <td> 1.41e+10</td> <td> 1.41e+10</td>\n",
       "</tr>\n",
       "</table>\n",
       "<table class=\"simpletable\">\n",
       "<tr>\n",
       "  <th>Ljung-Box (L1) (Q):</th>     <td>6.00</td> <th>  Jarque-Bera (JB):  </th> <td>44506.33</td>\n",
       "</tr>\n",
       "<tr>\n",
       "  <th>Prob(Q):</th>                <td>0.01</td> <th>  Prob(JB):          </th>   <td>0.00</td>  \n",
       "</tr>\n",
       "<tr>\n",
       "  <th>Heteroskedasticity (H):</th> <td>3.10</td> <th>  Skew:              </th>   <td>-1.07</td> \n",
       "</tr>\n",
       "<tr>\n",
       "  <th>Prob(H) (two-sided):</th>    <td>0.00</td> <th>  Kurtosis:          </th>   <td>28.12</td> \n",
       "</tr>\n",
       "</table><br/><br/>Warnings:<br/>[1] Covariance matrix calculated using the outer product of gradients (complex-step).<br/>[2] Covariance matrix is singular or near-singular, with condition number 5.86e+37. Standard errors may be unstable."
      ],
      "text/plain": [
       "<class 'statsmodels.iolib.summary.Summary'>\n",
       "\"\"\"\n",
       "                               SARIMAX Results                                \n",
       "==============================================================================\n",
       "Dep. Variable:                      y   No. Observations:                 1682\n",
       "Model:               SARIMAX(4, 1, 5)   Log Likelihood              -21771.719\n",
       "Date:                Mon, 22 May 2023   AIC                          43563.438\n",
       "Time:                        13:00:11   BIC                          43617.709\n",
       "Sample:                             0   HQIC                         43583.541\n",
       "                               - 1682                                         \n",
       "Covariance Type:                  opg                                         \n",
       "==============================================================================\n",
       "                 coef    std err          z      P>|z|      [0.025      0.975]\n",
       "------------------------------------------------------------------------------\n",
       "ar.L1          0.7912      0.006    136.029      0.000       0.780       0.803\n",
       "ar.L2         -1.4262      0.008   -178.303      0.000      -1.442      -1.411\n",
       "ar.L3          0.7797      0.008     98.446      0.000       0.764       0.795\n",
       "ar.L4         -0.9860      0.005   -189.532      0.000      -0.996      -0.976\n",
       "ma.L1         -1.3706      0.012   -110.471      0.000      -1.395      -1.346\n",
       "ma.L2          1.7391      0.019     92.697      0.000       1.702       1.776\n",
       "ma.L3         -1.4861      0.028    -52.856      0.000      -1.541      -1.431\n",
       "ma.L4          1.2712      0.024     52.739      0.000       1.224       1.318\n",
       "ma.L5         -0.5671      0.017    -32.542      0.000      -0.601      -0.533\n",
       "sigma2      1.407e+10   2.39e-13   5.88e+22      0.000    1.41e+10    1.41e+10\n",
       "===================================================================================\n",
       "Ljung-Box (L1) (Q):                   6.00   Jarque-Bera (JB):             44506.33\n",
       "Prob(Q):                              0.01   Prob(JB):                         0.00\n",
       "Heteroskedasticity (H):               3.10   Skew:                            -1.07\n",
       "Prob(H) (two-sided):                  0.00   Kurtosis:                        28.12\n",
       "===================================================================================\n",
       "\n",
       "Warnings:\n",
       "[1] Covariance matrix calculated using the outer product of gradients (complex-step).\n",
       "[2] Covariance matrix is singular or near-singular, with condition number 5.86e+37. Standard errors may be unstable.\n",
       "\"\"\""
      ]
     },
     "execution_count": 57,
     "metadata": {},
     "output_type": "execute_result"
    }
   ],
   "source": [
    "stepwise_fit.summary()"
   ]
  },
  {
   "cell_type": "code",
   "execution_count": 63,
   "id": "da548af9",
   "metadata": {
    "execution": {
     "iopub.execute_input": "2023-05-14T10:14:32.928300Z",
     "iopub.status.busy": "2023-05-14T10:14:32.927452Z",
     "iopub.status.idle": "2023-05-14T10:14:34.000615Z",
     "shell.execute_reply": "2023-05-14T10:14:33.999128Z"
    },
    "papermill": {
     "duration": 1.117684,
     "end_time": "2023-05-14T10:14:34.003255",
     "exception": false,
     "start_time": "2023-05-14T10:14:32.885571",
     "status": "completed"
    },
    "tags": []
   },
   "outputs": [
    {
     "name": "stdout",
     "output_type": "stream",
     "text": [
      "[  76941.23908672 -116017.3984593    -3854.98776499 ...     157.38729761\n",
      "     157.38729761     157.38729761]\n"
     ]
    }
   ],
   "source": [
    "# Make predictions\n",
    "start_idx = len(train_np)\n",
    "end_idx = len(train_np) + len(test_df) - 1\n",
    "predictions = result.predict(start=start_idx, end=end_idx)\n",
    "\n",
    "# Print the predictions\n",
    "print(predictions)"
   ]
  },
  {
   "cell_type": "code",
   "execution_count": 65,
   "id": "72d4227a",
   "metadata": {
    "execution": {
     "iopub.execute_input": "2023-05-14T10:14:34.088785Z",
     "iopub.status.busy": "2023-05-14T10:14:34.086939Z",
     "iopub.status.idle": "2023-05-14T10:14:34.093810Z",
     "shell.execute_reply": "2023-05-14T10:14:34.092853Z"
    },
    "papermill": {
     "duration": 0.050291,
     "end_time": "2023-05-14T10:14:34.096409",
     "exception": false,
     "start_time": "2023-05-14T10:14:34.046118",
     "status": "completed"
    },
    "tags": []
   },
   "outputs": [],
   "source": [
    "actual_values = train_df['diff_sales']"
   ]
  },
  {
   "cell_type": "code",
   "execution_count": 66,
   "id": "b7c78a6b",
   "metadata": {
    "execution": {
     "iopub.execute_input": "2023-05-14T10:14:34.181157Z",
     "iopub.status.busy": "2023-05-14T10:14:34.180135Z",
     "iopub.status.idle": "2023-05-14T10:14:34.191767Z",
     "shell.execute_reply": "2023-05-14T10:14:34.190182Z"
    },
    "papermill": {
     "duration": 0.058272,
     "end_time": "2023-05-14T10:14:34.195361",
     "exception": false,
     "start_time": "2023-05-14T10:14:34.137089",
     "status": "completed"
    },
    "tags": []
   },
   "outputs": [
    {
     "name": "stdout",
     "output_type": "stream",
     "text": [
      "Mean Absolute Error (MAE): 116448.56580107006\n",
      "Mean Squared Error (MSE): 25068619809.779408\n",
      "Root Mean Squared Error (RMSE): 158330.72920244953\n"
     ]
    }
   ],
   "source": [
    "# Truncate or pad the predictions array to match the length of actual_values\n",
    "predictions1 = predictions[:len(actual_values)]\n",
    "\n",
    "# Calculate evaluation metrics\n",
    "mae = np.mean(np.abs(predictions1 - actual_values))\n",
    "mse = np.mean((predictions1 - actual_values) ** 2)\n",
    "rmse = np.sqrt(mse)\n",
    "\n",
    "# Print the evaluation metrics\n",
    "print(\"Mean Absolute Error (MAE):\", mae)\n",
    "print(\"Mean Squared Error (MSE):\", mse)\n",
    "print(\"Root Mean Squared Error (RMSE):\", rmse)"
   ]
  },
  {
   "cell_type": "code",
   "execution_count": null,
   "id": "4b79f708",
   "metadata": {},
   "outputs": [],
   "source": []
  },
  {
   "cell_type": "code",
   "execution_count": null,
   "id": "37478544",
   "metadata": {},
   "outputs": [],
   "source": []
  },
  {
   "cell_type": "code",
   "execution_count": null,
   "id": "3373921e",
   "metadata": {},
   "outputs": [],
   "source": []
  }
 ],
 "metadata": {
  "kernelspec": {
   "display_name": "Python 3 (ipykernel)",
   "language": "python",
   "name": "python3"
  },
  "language_info": {
   "codemirror_mode": {
    "name": "ipython",
    "version": 3
   },
   "file_extension": ".py",
   "mimetype": "text/x-python",
   "name": "python",
   "nbconvert_exporter": "python",
   "pygments_lexer": "ipython3",
   "version": "3.9.12"
  },
  "papermill": {
   "default_parameters": {},
   "duration": 98.732849,
   "end_time": "2023-05-14T10:14:35.939281",
   "environment_variables": {},
   "exception": null,
   "input_path": "__notebook__.ipynb",
   "output_path": "__notebook__.ipynb",
   "parameters": {},
   "start_time": "2023-05-14T10:12:57.206432",
   "version": "2.4.0"
  }
 },
 "nbformat": 4,
 "nbformat_minor": 5
}
